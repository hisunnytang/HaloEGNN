{
  "nbformat": 4,
  "nbformat_minor": 0,
  "metadata": {
    "colab": {
      "name": "HaloEGNN_time.ipynb",
      "provenance": [],
      "collapsed_sections": [],
      "mount_file_id": "1o9di3SJyYYQ88c0D90z6iOGh7PJl_60y",
      "authorship_tag": "ABX9TyMN0PCCJrvIA1V7QCD23Kl0",
      "include_colab_link": true
    },
    "kernelspec": {
      "name": "python3",
      "display_name": "Python 3"
    },
    "language_info": {
      "name": "python"
    },
    "accelerator": "GPU"
  },
  "cells": [
    {
      "cell_type": "markdown",
      "metadata": {
        "id": "view-in-github",
        "colab_type": "text"
      },
      "source": [
        "<a href=\"https://colab.research.google.com/github/hisunnytang/HaloEGNN/blob/main/notebooks/HaloEGNN_MCMC.ipynb\" target=\"_parent\"><img src=\"https://colab.research.google.com/assets/colab-badge.svg\" alt=\"Open In Colab\"/></a>"
      ]
    },
    {
      "cell_type": "code",
      "execution_count": 1,
      "metadata": {
        "id": "b7HIBGa-LVQO"
      },
      "outputs": [],
      "source": [
        "%%capture\n",
        "!pip install torchdiffeq\n",
        "!pip install gdown\n",
        "!git clone https://github.com/hisunnytang/HaloEGNN.git"
      ]
    },
    {
      "cell_type": "code",
      "source": [
        "!nvidia-smi\n",
        "!lscpu"
      ],
      "metadata": {
        "colab": {
          "base_uri": "https://localhost:8080/"
        },
        "id": "yWHjD8xcLiqP",
        "outputId": "895ef4a9-7c80-42e1-8223-9632f10350e4"
      },
      "execution_count": 2,
      "outputs": [
        {
          "output_type": "stream",
          "name": "stdout",
          "text": [
            "Mon Apr  4 17:04:15 2022       \n",
            "+-----------------------------------------------------------------------------+\n",
            "| NVIDIA-SMI 460.32.03    Driver Version: 460.32.03    CUDA Version: 11.2     |\n",
            "|-------------------------------+----------------------+----------------------+\n",
            "| GPU  Name        Persistence-M| Bus-Id        Disp.A | Volatile Uncorr. ECC |\n",
            "| Fan  Temp  Perf  Pwr:Usage/Cap|         Memory-Usage | GPU-Util  Compute M. |\n",
            "|                               |                      |               MIG M. |\n",
            "|===============================+======================+======================|\n",
            "|   0  Tesla P100-PCIE...  Off  | 00000000:00:04.0 Off |                    0 |\n",
            "| N/A   34C    P0    27W / 250W |      0MiB / 16280MiB |      0%      Default |\n",
            "|                               |                      |                  N/A |\n",
            "+-------------------------------+----------------------+----------------------+\n",
            "                                                                               \n",
            "+-----------------------------------------------------------------------------+\n",
            "| Processes:                                                                  |\n",
            "|  GPU   GI   CI        PID   Type   Process name                  GPU Memory |\n",
            "|        ID   ID                                                   Usage      |\n",
            "|=============================================================================|\n",
            "|  No running processes found                                                 |\n",
            "+-----------------------------------------------------------------------------+\n",
            "Architecture:        x86_64\n",
            "CPU op-mode(s):      32-bit, 64-bit\n",
            "Byte Order:          Little Endian\n",
            "CPU(s):              2\n",
            "On-line CPU(s) list: 0,1\n",
            "Thread(s) per core:  2\n",
            "Core(s) per socket:  1\n",
            "Socket(s):           1\n",
            "NUMA node(s):        1\n",
            "Vendor ID:           GenuineIntel\n",
            "CPU family:          6\n",
            "Model:               85\n",
            "Model name:          Intel(R) Xeon(R) CPU @ 2.00GHz\n",
            "Stepping:            3\n",
            "CPU MHz:             2000.174\n",
            "BogoMIPS:            4000.34\n",
            "Hypervisor vendor:   KVM\n",
            "Virtualization type: full\n",
            "L1d cache:           32K\n",
            "L1i cache:           32K\n",
            "L2 cache:            1024K\n",
            "L3 cache:            39424K\n",
            "NUMA node0 CPU(s):   0,1\n",
            "Flags:               fpu vme de pse tsc msr pae mce cx8 apic sep mtrr pge mca cmov pat pse36 clflush mmx fxsr sse sse2 ss ht syscall nx pdpe1gb rdtscp lm constant_tsc rep_good nopl xtopology nonstop_tsc cpuid tsc_known_freq pni pclmulqdq ssse3 fma cx16 pcid sse4_1 sse4_2 x2apic movbe popcnt aes xsave avx f16c rdrand hypervisor lahf_lm abm 3dnowprefetch invpcid_single ssbd ibrs ibpb stibp fsgsbase tsc_adjust bmi1 hle avx2 smep bmi2 erms invpcid rtm mpx avx512f avx512dq rdseed adx smap clflushopt clwb avx512cd avx512bw avx512vl xsaveopt xsavec xgetbv1 xsaves arat md_clear arch_capabilities\n"
          ]
        }
      ]
    },
    {
      "cell_type": "code",
      "source": [
        "# !cp /content/drive/MyDrive/HaloEGNN_sample_data/subhalo_columns.npy .\n",
        "!cp /content/drive/MyDrive/HaloEGNN_sample_data/newdata.zip ."
      ],
      "metadata": {
        "id": "PL40bDdcLlWp"
      },
      "execution_count": 3,
      "outputs": []
    },
    {
      "cell_type": "code",
      "source": [
        "%%capture\n",
        "!unzip newdata.zip"
      ],
      "metadata": {
        "id": "_zyPBQAVLq6I"
      },
      "execution_count": 4,
      "outputs": []
    },
    {
      "cell_type": "code",
      "source": [
        "from HaloEGNN.HaloEGNNFlows.train import *"
      ],
      "metadata": {
        "id": "_ocYWxovLtHp"
      },
      "execution_count": 5,
      "outputs": []
    },
    {
      "cell_type": "code",
      "source": [
        "import numpy as np\n",
        "import torch\n",
        "import glob\n",
        "import pandas as pd\n",
        "import ipywidgets as widgets\n",
        "import seaborn as sns\n",
        "import pickle\n",
        "from HaloEGNN.HaloEGNNFlows.EGNNFlows.models import get_model\n",
        "from HaloEGNN.HaloEGNNFlows.EGNNFlows.datasets import \\\n",
        "(\n",
        " ProgenitorDataset,\n",
        " find_closest_redshift_slice, \n",
        " prepare_input_data\n",
        " )\n",
        "\n",
        "from HaloEGNN.HaloEGNNFlows.EGNNFlows.viz.utils import compute_metric_features\n",
        "from HaloEGNN.HaloEGNNFlows.EGNNFlows.flows.utils import assert_correctly_masked\n",
        "from HaloEGNN.HaloEGNNFlows.EGNNFlows.flow_forward import  flow_forward\n",
        "\n",
        "\n",
        "from HaloEGNN.HaloEGNNFlows.EGNNFlows.flows.utils import assert_mean_zero_with_mask, remove_mean_with_mask,\\\n",
        "        assert_correctly_masked\n",
        "from HaloEGNN.HaloEGNNFlows.EGNNFlows.utils import subtract_the_boundary\n",
        "import re\n",
        "from collections import OrderedDict"
      ],
      "metadata": {
        "id": "HodXI5mFLvml"
      },
      "execution_count": 6,
      "outputs": []
    },
    {
      "cell_type": "code",
      "source": [
        "import time\n",
        "def time_perf(func):\n",
        "  def time_func(**kwargs):\n",
        "    t0 = time.time()\n",
        "    print(kwargs)\n",
        "    nll = func(**kwargs)\n",
        "    print(f\"Time taken: {time.time() - t0:.3f}; nll: {nll:.3f}\")\n",
        "  return time_func"
      ],
      "metadata": {
        "id": "nfHnqieGTqQa"
      },
      "execution_count": 7,
      "outputs": []
    },
    {
      "cell_type": "code",
      "source": [
        "!unzip 37788461.gadi-pbs.zip"
      ],
      "metadata": {
        "colab": {
          "base_uri": "https://localhost:8080/"
        },
        "id": "HyQvMmHoa78o",
        "outputId": "9bd0d23d-348d-456b-c978-67937a523090"
      },
      "execution_count": 43,
      "outputs": [
        {
          "output_type": "stream",
          "name": "stdout",
          "text": [
            "Archive:  37788461.gadi-pbs.zip\n",
            "   creating: 37788461.gadi-pbs/\n",
            "  inflating: 37788461.gadi-pbs/egnn_0_val=79.416.pt  \n",
            "  inflating: 37788461.gadi-pbs/egnn_1_val=72.482.pt  \n",
            "  inflating: 37788461.gadi-pbs/egnn_2_val=68.841.pt  \n",
            "  inflating: 37788461.gadi-pbs/egnn_3_val=67.575.pt  \n",
            "  inflating: 37788461.gadi-pbs/egnn_4_val=62.625.pt  \n",
            "  inflating: 37788461.gadi-pbs/egnn_4_val=63.662.pt  \n",
            "  inflating: 37788461.gadi-pbs/egnn_4_val=71.068.pt  \n",
            "  inflating: 37788461.gadi-pbs/scaler.pkl  \n"
          ]
        }
      ]
    },
    {
      "cell_type": "code",
      "source": [
        "filelist = sorted(glob.glob(\"TNG300_preprocessed_data/prog_sublink_*.npy\"))\n",
        "data_columns = np.load(\"TNG300_preprocessed_data/subhalo_columns.npy\")\n",
        "max_progenitors = 20\n",
        "initial_slice = 0\n",
        "final_slice = 1\n",
        "\n",
        "# The \"scalar\" feature bounded to the progenitors\n",
        "feature_columns = [\"SubhaloMass\", \"SubhaloMergeRedshift\"]\n",
        "# The \"positional\" feature bounded to the progenitors\n",
        "position_columns = [\"SubhaloPos_0\", \"SubhaloPos_1\", \"SubhaloPos_2\"]\n",
        "\n",
        "# initialize the list condtional columns at redshift 0\n",
        "condition_columns = [\n",
        "    \"SubhaloBHMass\",\n",
        "    \"SubhaloBHMdot\",\n",
        "    \"SubhaloGasMetallicity\",\n",
        "    \"SubhaloStarMetallicity\",\n",
        "    \"SubhaloMass\",\n",
        "    \"SubhaloSFR\",\n",
        "    \"SubhaloVmax\",\n",
        "    \"SubhaloVelDisp\",\n",
        "]\n",
        "\n",
        "n_dims = len(position_columns)\n",
        "in_node_nf = len(feature_columns)\n",
        "context_node_nf = len(condition_columns)\n",
        "\n",
        "@time_perf\n",
        "def get_nll(\n",
        "    ckpt_path=\"egnn_7_val=43.972.pt\", \n",
        "    device='cpu', \n",
        "    bsz=1,\n",
        "    rtol=1e-4,\n",
        "    trace_method='exact'\n",
        "    ):\n",
        "\n",
        "  prior, flow = get_model(\n",
        "      in_node_nf=in_node_nf, \n",
        "      dynamics_in_node_nf=1, \n",
        "      context_node_nf=context_node_nf, \n",
        "      n_dims=3, \n",
        "      device=device)\n",
        "\n",
        "  ckpt = torch.load(ckpt_path, map_location=torch.device(device))\n",
        "\n",
        "  state_dict = ckpt['model_state_dict']\n",
        "\n",
        "  model_dict = OrderedDict()\n",
        "  pattern = re.compile('module.')\n",
        "  for k,v in state_dict.items():\n",
        "      if re.search(\"module\", k):\n",
        "          model_dict[re.sub(pattern, '', k)] = v\n",
        "      else:\n",
        "          model_dict[k] = v\n",
        "  flow.load_state_dict(model_dict)\n",
        "\n",
        "\n",
        "\n",
        "  dataset = ProgenitorDataset(\n",
        "          filelist,\n",
        "          condition_columns=condition_columns,\n",
        "          position_columns=position_columns,\n",
        "          feature_columns=feature_columns,\n",
        "          max_progenitors=max_progenitors,\n",
        "          initial_slice=initial_slice,\n",
        "          final_slice=final_slice,\n",
        "          data_columns=data_columns,\n",
        "      )\n",
        "\n",
        "  condition_transform = pickle.load(open('scaler.pkl','rb'))\n",
        "  dl = torch.utils.data.DataLoader(dataset,batch_size=bsz)\n",
        "\n",
        "  # tiny snippet to transform redshift to scale factor\n",
        "  def transform_z_to_scale(z_idx):\n",
        "      def transform_graph(input_graph):\n",
        "          # transform only the features\n",
        "          if z_idx is None:\n",
        "              return input_graph\n",
        "          x, h, node_mask, edge_mask = input_graph\n",
        "          h[:, :, z_idx] = 1 / (1 + h[:, :, z_idx])\n",
        "          return x, h, node_mask, edge_mask\n",
        "      return transform_graph\n",
        "  zidx = None\n",
        "  if \"SubhaloMergeRedshift\" in feature_columns:\n",
        "      zidx = feature_columns.index(\"SubhaloMergeRedshift\")\n",
        "      print(zidx, \"feature with this index would be transform to 1/(1+z)\")\n",
        "  transform_input = transform_z_to_scale(zidx)\n",
        "\n",
        "\n",
        "  flow.training = False\n",
        "  flow.transformations[1]._rtol = rtol\n",
        "  flow.transformations[1]._atol = rtol\n",
        "  flow.transformations[1].odefunc.method = trace_method\n",
        "  flow.transformations[1].odefunc.ode_regularization = 0.0\n",
        "\n",
        "\n",
        "  input_graph, input_cond = next(iter(dl))\n",
        "  # normalize the input condition\n",
        "  input_cond = [ torch.from_numpy(condition_transform.transform(input_cond[0])) ]\n",
        "  # \n",
        "  input_graph = transform_input(input_graph)\n",
        "\n",
        "  with torch.no_grad():\n",
        "    nll, loss, z_x, z_h = flow_forward(\n",
        "        flow, \n",
        "        prior, \n",
        "        input_graph, \n",
        "        input_cond, \n",
        "        device=device, \n",
        "        ode_regularization=0.01\n",
        "        )\n",
        "\n",
        "  return nll\n",
        "\n",
        "\n",
        "def flow_logpx(flow,\n",
        "                 prior,\n",
        "                 input_graph,\n",
        "                 input_cond,\n",
        "                 device='cuda',\n",
        "                 x_norm=300,\n",
        "                 ode_regularization=0.01):\n",
        "    x, h, node_mask, edge_mask = input_graph\n",
        "    context = input_cond[0]\n",
        "\n",
        "    x = x.to(device)\n",
        "    h = h.to(device)\n",
        "    node_mask = node_mask.to(device)\n",
        "    edge_mask = edge_mask.to(device)\n",
        "    context   = context.to(device)\n",
        "\n",
        "    subtract_the_boundary(x, node_mask)\n",
        "    xx = remove_mean_with_mask(x, node_mask)\n",
        "\n",
        "    # h = log_normalize_with_mask(h, node_mask)\n",
        "\n",
        "    h = (h+1e-8).log()* node_mask\n",
        "    # dont normalize here\n",
        "    #context = log_norm_target(context)\n",
        "\n",
        "    # center the position coordinate\n",
        "    xx = remove_mean_with_mask(x/x_norm, node_mask)\n",
        "    assert_mean_zero_with_mask(xx, node_mask)\n",
        "\n",
        "    bs, n_nodes, n_dims = xx.size()\n",
        "    # inflate context (condition) in to the shape of [batch, max_nodes, n_context]\n",
        "    context_ = context.unsqueeze(1).repeat(1, n_nodes, 1)* node_mask\n",
        "    assert_correctly_masked(context_, node_mask)\n",
        "\n",
        "    xh = torch.cat([xx, h], dim=2)\n",
        "    assert_correctly_masked(xh, node_mask)\n",
        "\n",
        "    edge_mask = edge_mask.view(bs, n_nodes * n_nodes)\n",
        "\n",
        "\n",
        "    z, delta_logp, reg_term = flow(xh.float(),\n",
        "                                   node_mask.float(),\n",
        "                                   edge_mask.float(),\n",
        "                                   context_.float())\n",
        "    z_x, z_h = z[:, :, 0:n_dims].clone(), z[:, :, n_dims:].clone()\n",
        "\n",
        "    assert_correctly_masked(z_x, node_mask)\n",
        "    assert_correctly_masked(z_h, node_mask)\n",
        "\n",
        "    N = node_mask.squeeze(2).sum(1).long()\n",
        "\n",
        "    log_qh_x = 0\n",
        "    log_pz = prior(z_x, z_h, node_mask)\n",
        "    log_px = (log_pz + delta_logp - log_qh_x)  # Average over batch.\n",
        "    return log_px"
      ],
      "metadata": {
        "id": "YKh6e_QKLxyt"
      },
      "execution_count": 47,
      "outputs": []
    },
    {
      "cell_type": "markdown",
      "source": [
        "# How does ensemble estimate of Hutch perform compared to exact calculations?"
      ],
      "metadata": {
        "id": "FpzR5rwtWdj6"
      }
    },
    {
      "cell_type": "code",
      "source": [
        "dataset = ProgenitorDataset(\n",
        "        filelist,\n",
        "        condition_columns=condition_columns,\n",
        "        position_columns=position_columns,\n",
        "        feature_columns=feature_columns,\n",
        "        max_progenitors=max_progenitors,\n",
        "        initial_slice=initial_slice,\n",
        "        final_slice=final_slice,\n",
        "        data_columns=data_columns,\n",
        "    )\n",
        "\n",
        "\n",
        "\n",
        "condition_transform = pickle.load(open('37788461.gadi-pbs/scaler.pkl','rb'))\n",
        "\n",
        "\n",
        "# tiny snippet to transform redshift to scale factor\n",
        "def transform_z_to_scale(z_idx):\n",
        "    def transform_graph(input_graph):\n",
        "        # transform only the features\n",
        "        if z_idx is None:\n",
        "            return input_graph\n",
        "        x, h, node_mask, edge_mask = input_graph\n",
        "        h[:, :, z_idx] = 1 / (1 + h[:, :, z_idx])\n",
        "        return x, h, node_mask, edge_mask\n",
        "    return transform_graph\n",
        "zidx = None\n",
        "if \"SubhaloMergeRedshift\" in feature_columns:\n",
        "    zidx = feature_columns.index(\"SubhaloMergeRedshift\")\n",
        "transform_input = transform_z_to_scale(zidx)\n",
        "\n",
        "def preprocess_inputs(ds, idx):\n",
        "  # select only one element! \n",
        "  # from the dataset by index\n",
        "  tmp1, tmp2 = ds[idx]\n",
        "  input_graph = [t.unsqueeze(0) for t in tmp1]\n",
        "  input_graph = transform_input(input_graph)\n",
        "  input_cond  = [torch.from_numpy(condition_transform.transform(t.unsqueeze(0))) for t in tmp2]\n",
        "  return input_graph, input_cond"
      ],
      "metadata": {
        "id": "4kBcSPcPWqaY"
      },
      "execution_count": 48,
      "outputs": []
    },
    {
      "cell_type": "code",
      "source": [
        "def repeat_batch(input_cond_np, input_graph, nrepeats=30):\n",
        "  \"\"\"repeat inputs, condition vector is numpy array\"\"\"\n",
        "  tmp = torch.from_numpy(input_cond_np).unsqueeze(0)\n",
        "  new_cond = [tmp.repeat(nrepeats,1)]\n",
        "  new_graph = [c.repeat(nrepeats,1,1)  if (c.ndim == 3) else c.repeat(nrepeats,1) for c in input_graph]\n",
        "  return new_graph, new_cond\n",
        "\n",
        "@torch.no_grad()\n",
        "def ensemble_log_prob(input_cond_np, input_graph, flow, prior, nsamples= 30, device='cpu',rtol=1e-4, trace_method='exact',):\n",
        "  # we assume the graph is properly transformed already!\n",
        "  flow.training = False\n",
        "  flow.transformations[1]._rtol = rtol\n",
        "  flow.transformations[1]._atol = rtol\n",
        "  flow.transformations[1].odefunc.method = trace_method\n",
        "  flow.transformations[1].odefunc.ode_regularization = 0.0\n",
        "\n",
        "  new_graph, new_cond = repeat_batch(input_cond_np, input_graph, nrepeats=nsamples)\n",
        "  logpx = flow_logpx(\n",
        "    flow, \n",
        "    prior, \n",
        "    new_graph, \n",
        "    new_cond, \n",
        "    device=device, \n",
        "    ode_regularization=0.01\n",
        "  )\n",
        "  return logpx.cpu().numpy()\n",
        "\n",
        "@torch.no_grad()\n",
        "def condition_log_prob(input_cond_np, input_graph, flow, prior, rtol=1e-4, trace_method='exact',device='cpu'):\n",
        "  # we assume the graph is properly transformed already!\n",
        "  flow.training = False\n",
        "  flow.transformations[1]._rtol = rtol\n",
        "  flow.transformations[1]._atol = rtol\n",
        "  flow.transformations[1].odefunc.method = trace_method\n",
        "  flow.transformations[1].odefunc.ode_regularization = 0.0\n",
        "\n",
        "  input_cond = [ torch.from_numpy(input_cond_np).unsqueeze(0) ]\n",
        "  logpx = flow_logpx(\n",
        "    flow, \n",
        "    prior, \n",
        "    input_graph, \n",
        "    input_cond, \n",
        "    device=device, \n",
        "    ode_regularization=0.01\n",
        "  )\n",
        "  return logpx.cpu().numpy()"
      ],
      "metadata": {
        "id": "VwuG9bsiP9v0"
      },
      "execution_count": 49,
      "outputs": []
    },
    {
      "cell_type": "code",
      "source": [
        "def prepare_ckpt_model(\n",
        "    ckpt_path=\"egnn_7_val=43.972.pt\", \n",
        "    device='cpu', \n",
        "    bsz=1,\n",
        "    rtol=1e-4,\n",
        "    trace_method='exact'\n",
        "    ):\n",
        "\n",
        "  prior, flow = get_model(\n",
        "      in_node_nf=in_node_nf, \n",
        "      dynamics_in_node_nf=1, \n",
        "      context_node_nf=context_node_nf, \n",
        "      n_dims=3, \n",
        "      device=device)\n",
        "\n",
        "  ckpt = torch.load(ckpt_path, map_location=torch.device(device))\n",
        "\n",
        "  state_dict = ckpt['model_state_dict']\n",
        "\n",
        "  model_dict = OrderedDict()\n",
        "  pattern = re.compile('module.')\n",
        "  for k,v in state_dict.items():\n",
        "      if re.search(\"module\", k):\n",
        "          model_dict[re.sub(pattern, '', k)] = v\n",
        "      else:\n",
        "          model_dict[k] = v\n",
        "  flow.load_state_dict(model_dict)\n",
        "\n",
        "  flow.training = False\n",
        "  flow.transformations[1]._rtol = rtol\n",
        "  flow.transformations[1]._atol = rtol\n",
        "  flow.transformations[1].odefunc.method = trace_method\n",
        "  flow.transformations[1].odefunc.ode_regularization = 0.0\n",
        "\n",
        "  return prior, flow"
      ],
      "metadata": {
        "id": "QldEK_8qaYnW"
      },
      "execution_count": 50,
      "outputs": []
    },
    {
      "cell_type": "code",
      "source": [
        "prior_cuda, flow_cuda = prepare_ckpt_model(\n",
        "    ckpt_path=\"37788461.gadi-pbs/egnn_4_val=62.625.pt\", \n",
        "    device='cuda', \n",
        "    rtol=1e-4,\n",
        "    trace_method='hutch'\n",
        "    )\n",
        "\n",
        "prior_cpu, flow_cpu = prepare_ckpt_model(\n",
        "    ckpt_path=\"37788461.gadi-pbs/egnn_4_val=62.625.pt\", \n",
        "    device='cpu', \n",
        "    rtol=1e-4,\n",
        "    trace_method='hutch'\n",
        "    )\n"
      ],
      "metadata": {
        "id": "f_De1WSdci6g"
      },
      "execution_count": 51,
      "outputs": []
    },
    {
      "cell_type": "code",
      "source": [
        "input_graph, input_cond = preprocess_inputs(dataset,31)\n",
        "npcond = input_cond[0][0].numpy()"
      ],
      "metadata": {
        "id": "v5qUn2ERglRX"
      },
      "execution_count": 52,
      "outputs": []
    },
    {
      "cell_type": "code",
      "source": [
        "%%time\n",
        "nll_samples_cuda = ensemble_log_prob(npcond, input_graph, flow_cuda, prior_cuda, nsamples=100, device='cuda', rtol=1e-4, trace_method='hutch',)"
      ],
      "metadata": {
        "colab": {
          "base_uri": "https://localhost:8080/"
        },
        "id": "2jPxpIJodXci",
        "outputId": "76a39fdc-1b8a-4f3b-ece0-9646f3f5a837"
      },
      "execution_count": 58,
      "outputs": [
        {
          "output_type": "stream",
          "name": "stdout",
          "text": [
            "CPU times: user 1.24 s, sys: 4 ms, total: 1.24 s\n",
            "Wall time: 1.55 s\n"
          ]
        }
      ]
    },
    {
      "cell_type": "code",
      "source": [
        "%%time\n",
        "nll_samples_cpu = ensemble_log_prob(npcond, input_graph, flow_cpu, prior_cpu, nsamples=100, device='cpu', rtol=1e-4, trace_method='hutch',)"
      ],
      "metadata": {
        "colab": {
          "base_uri": "https://localhost:8080/"
        },
        "id": "rqpHXaSjgbho",
        "outputId": "9599777f-fce0-4381-91b1-fc8069d624f6"
      },
      "execution_count": 61,
      "outputs": [
        {
          "output_type": "stream",
          "name": "stdout",
          "text": [
            "CPU times: user 12.6 s, sys: 3.29 s, total: 15.9 s\n",
            "Wall time: 16.4 s\n"
          ]
        }
      ]
    },
    {
      "cell_type": "code",
      "source": [
        "%%time\n",
        "nll_exact = condition_log_prob(npcond, input_graph, flow_cpu, prior_cpu, device='cpu', rtol=1e-4, trace_method='exact',)"
      ],
      "metadata": {
        "colab": {
          "base_uri": "https://localhost:8080/"
        },
        "id": "yc-3VFNjizFE",
        "outputId": "bf5df2f2-243e-4a76-fb42-b928c6092222"
      },
      "execution_count": 55,
      "outputs": [
        {
          "output_type": "stream",
          "name": "stdout",
          "text": [
            "CPU times: user 16.1 s, sys: 959 ms, total: 17 s\n",
            "Wall time: 17 s\n"
          ]
        }
      ]
    },
    {
      "cell_type": "code",
      "source": [
        "%%time\n",
        "nll_exact_cuda = condition_log_prob(npcond, input_graph, flow_cuda, prior_cuda, device='cuda', rtol=1e-4, trace_method='exact',)"
      ],
      "metadata": {
        "colab": {
          "base_uri": "https://localhost:8080/"
        },
        "id": "MuyZ-nlHkmpV",
        "outputId": "bddc9d83-18e1-4839-815d-ae62a0232c2b"
      },
      "execution_count": 56,
      "outputs": [
        {
          "output_type": "stream",
          "name": "stdout",
          "text": [
            "CPU times: user 24.5 s, sys: 181 ms, total: 24.7 s\n",
            "Wall time: 25 s\n"
          ]
        }
      ]
    },
    {
      "cell_type": "markdown",
      "source": [
        "# Summary of the Actual Inference\n",
        "$\\frac{\\mathrm{d} z (t)}{\\mathrm{d} t} = f (z (t), t, \\theta)$\n",
        "\n",
        "$p(z,t)$ is the probability equation defined by the Liouville equation:  \n",
        "$\\frac{\\partial p (z, t)}{\\partial t} = -\\text{tr} \\left( \\frac{\\partial}{\\partial z} [f (z, t, \\theta) p (z, t)] \\right)$\n",
        "\n",
        "\n",
        "\n",
        "\\begin{align}\n",
        "& q (t) = p (z (t), t)\\\\\\\\\n",
        "& \\frac{\\mathrm{d} q (t)}{\\mathrm{d} t}\\\\ = & \\left[ \\frac{\\partial p (z (t), t)}{\\partial z (t)} \\right]^T \\frac{\\partial z (t)}{\\partial t} + \\frac{\\partial p (z (t), t)}{\\partial t}\\\\ = & \\left[ \\frac{\\partial p (z (t), t)}{\\partial z (t)} \\right]^T \\frac{\\partial z (t)}{\\partial t} -\\text{tr} \\left( \\frac{\\partial}{\\partial z (t)} [f (z (t), t, \\theta) p (z (t), t)] \\right) (\\text{Liouville})\\\\ = & \\left[ \\frac{\\partial p (z (t), t)}{\\partial z (t)} \\right]^T \\frac{\\partial z (t)}{\\partial t} -\\text{tr} \\left( \\frac{\\partial f (z (t), t, \\theta)}{\\partial z (t)} \\right) p (z (t), t) - \\left[ \\frac{\\partial p (z (t), t)}{\\partial z (t)} \\right]^T f (z (t), t, \\theta)\\\\ = & -\\text{tr} \\left( \\frac{\\partial f (z (t), t, \\theta)}{\\partial z (t)} \\right) q (t)\n",
        "\\end{align}\n",
        "\n",
        "$\\frac{\\mathrm{d} \\log q (t)}{\\mathrm{d} t} = -\\text{tr} \\left( \\frac{\\partial f (z (t), t, \\theta)}{\\partial z (t)} \\right)$\n",
        "\n",
        "\n",
        "$\\frac{\\mathrm{d}}{\\mathrm{d} t} \\left[\\begin{array}{c}\n",
        "     z (t)\\\\ \\log q (t) \\end{array}\\right] = \\frac{\\mathrm{d}}{\\mathrm{d} t} \\left[\\begin{array}{c} z (t)\\\\ \\log p (z (t), t)\n",
        "   \\end{array}\\right] = \\left[\\begin{array}{c}\n",
        "     f (z (t), t, \\theta)\\\\ -\\text{tr} \\left( \\frac{\\partial f (z (t), t, \\theta)}{\\partial z (t)} \\right)\n",
        "     \\end{array}\\right]$"
      ],
      "metadata": {
        "id": "km-4fmnTu_Ek"
      }
    },
    {
      "cell_type": "code",
      "source": [
        "import matplotlib.pyplot as plt\n",
        "plt.hist(nll_samples_cpu, histtype='step', color='C0', density=True)\n",
        "plt.hist(nll_samples_cuda, histtype='step', color='C1', density=True)\n",
        "\n",
        "\n",
        "plt.axvline(nll_exact,color='k', label=f'{\"exact\":<15} {nll_exact.item():.2f}')\n",
        "plt.axvline(nll_exact_cuda,color='k', ls = '--', label=f'{\"exactcuda\":<10} {nll_exact_cuda.item():.2f}')\n",
        "\n",
        "plt.axvline(nll_samples_cpu.mean(),color='C0', label=f'{\"cpu\":<15} {nll_samples_cpu.mean().item():.2f}')\n",
        "plt.axvline(nll_samples_cuda.mean(),color='C1', label=f'{\"cuda\":<15} {nll_samples_cuda.mean().item():.2f}')\n",
        "plt.xlabel('Log-likelihood')\n",
        "plt.ylabel('counts')\n",
        "plt.legend()"
      ],
      "metadata": {
        "colab": {
          "base_uri": "https://localhost:8080/",
          "height": 296
        },
        "id": "9CY2u8QBhDmP",
        "outputId": "9bcb0801-86a6-4596-9fa5-ae6669bc50cb"
      },
      "execution_count": 62,
      "outputs": [
        {
          "output_type": "execute_result",
          "data": {
            "text/plain": [
              "<matplotlib.legend.Legend at 0x7f1c398dd990>"
            ]
          },
          "metadata": {},
          "execution_count": 62
        },
        {
          "output_type": "display_data",
          "data": {
            "text/plain": [
              "<Figure size 432x288 with 1 Axes>"
            ],
            "image/png": "[encoded data removed]"
          },
          "metadata": {
            "needs_background": "light"
          }
        }
      ]
    },
    {
      "cell_type": "markdown",
      "source": [
        "# Ensemble Hutch Trace Estimate as a surrogate for the Exact Trace Estimate"
      ],
      "metadata": {
        "id": "uWl_8YNInylh"
      }
    },
    {
      "cell_type": "code",
      "source": [
        "!pip install -U emcee"
      ],
      "metadata": {
        "colab": {
          "base_uri": "https://localhost:8080/"
        },
        "id": "Iebk5Rdtdvmx",
        "outputId": "21bf1059-3179-4f3e-b66c-82dca8114b58"
      },
      "execution_count": 35,
      "outputs": [
        {
          "output_type": "stream",
          "name": "stdout",
          "text": [
            "Collecting emcee\n",
            "  Downloading emcee-3.1.1-py2.py3-none-any.whl (45 kB)\n",
            "\u001b[?25l\r\u001b[K     |███████▏                        | 10 kB 36.2 MB/s eta 0:00:01\r\u001b[K     |██████████████▎                 | 20 kB 30.1 MB/s eta 0:00:01\r\u001b[K     |█████████████████████▍          | 30 kB 19.0 MB/s eta 0:00:01\r\u001b[K     |████████████████████████████▌   | 40 kB 16.7 MB/s eta 0:00:01\r\u001b[K     |████████████████████████████████| 45 kB 3.7 MB/s \n",
            "\u001b[?25hRequirement already satisfied: numpy in /usr/local/lib/python3.7/dist-packages (from emcee) (1.21.5)\n",
            "Installing collected packages: emcee\n",
            "Successfully installed emcee-3.1.1\n"
          ]
        }
      ]
    },
    {
      "cell_type": "markdown",
      "source": [
        "## Sample One `idx = 31` graph, and condition\n",
        "- ground truth:   \n",
        "`([ 2.14894159, -0.79287613, -1.762911  ,  0.48976653, -0.14799766, -1.14266813,  1.8743024 ,  1.52000856])`\n",
        "- could we **given a graph find the optimal condition**\n",
        "- given a snapshot in say $z=2$, infer its $z=0$ properties?\n",
        "- with `MCMC`"
      ],
      "metadata": {
        "id": "k5PqPV2TpNlM"
      }
    },
    {
      "cell_type": "code",
      "source": [
        "idx = 31\n",
        "input_graph, input_cond = preprocess_inputs(dataset,31)\n",
        "npcond = input_cond[0][0].numpy()"
      ],
      "metadata": {
        "id": "gpp8uJ5jpJVY"
      },
      "execution_count": 60,
      "outputs": []
    },
    {
      "cell_type": "code",
      "source": [
        "npcond.shape[0]"
      ],
      "metadata": {
        "colab": {
          "base_uri": "https://localhost:8080/"
        },
        "id": "Bl7NYkNJpCu5",
        "outputId": "c5388624-0b50-4f26-e192-e981e1286238"
      },
      "execution_count": 40,
      "outputs": [
        {
          "output_type": "execute_result",
          "data": {
            "text/plain": [
              "(12,)"
            ]
          },
          "metadata": {},
          "execution_count": 40
        }
      ]
    },
    {
      "cell_type": "code",
      "source": [
        "import emcee\n",
        "ndim, nwalkers = npcond.shape[0], 16\n",
        "p0 = np.random.randn(nwalkers, ndim)\n",
        "\n",
        "nensemble_estimates = 100\n",
        "device = 'cuda'\n",
        "rtol = 1e-4\n",
        "trace_method = 'hutch'\n",
        "\n",
        "sampler = emcee.EnsembleSampler(\n",
        "    nwalkers, \n",
        "    ndim, \n",
        "    ensemble_log_prob, \n",
        "    args =[ \n",
        "           input_graph, \n",
        "           flow_cuda, \n",
        "           prior_cuda, \n",
        "           nensemble_estimates, \n",
        "           device, \n",
        "           rtol, \n",
        "           trace_method]\n",
        "           )\n",
        "sampler.run_mcmc(p0, 100, progress=True)"
      ],
      "metadata": {
        "colab": {
          "base_uri": "https://localhost:8080/"
        },
        "id": "CFYMGe_knA7a",
        "outputId": "ba7ea39c-fe19-41e5-9f4d-e1cfef2e3e02"
      },
      "execution_count": 64,
      "outputs": [
        {
          "output_type": "stream",
          "name": "stderr",
          "text": [
            "100%|██████████| 100/100 [27:13<00:00, 16.33s/it]\n"
          ]
        },
        {
          "output_type": "execute_result",
          "data": {
            "text/plain": [
              "State([[-1.41818973e+01  2.68902638e+00 -2.19399904e+00 -3.13657274e+00\n",
              "   1.74025488e-01  3.00580061e+00 -5.09896286e+00  5.78652057e+00]\n",
              " [ 4.53489990e+00 -2.69020668e+00 -2.98686908e-01  1.85071662e+00\n",
              "  -1.22618414e+00 -3.47403374e+00  1.10066099e+00  6.04287950e-01]\n",
              " [ 4.11666325e+00  4.18799649e-01  1.41117657e+00 -8.88122483e-01\n",
              "   1.87147755e+00 -1.37946269e+00  2.45327497e+00 -2.50619081e-01]\n",
              " [ 8.72760459e+00 -5.14038859e+00  1.89905959e+00  4.12575027e+00\n",
              "   1.72724752e+00 -4.37624954e+00  3.15069250e-01 -1.52378233e+00]\n",
              " [-6.78253093e-01  1.26999418e+00  1.92127823e+00 -1.24772656e-01\n",
              "  -2.37433976e-01 -2.15569155e+00  1.74720320e+00 -5.71983140e-01]\n",
              " [ 3.65156970e+00 -2.46295707e+00 -1.54841823e-01  2.57858156e+00\n",
              "  -7.67809156e-01 -1.67459811e+00  1.56025399e+00  1.43051287e+00]\n",
              " [-1.58853174e+01  2.92099028e+00  3.21033420e+00  1.35220410e+00\n",
              "  -9.44634615e-01 -2.42417429e+00 -2.48705714e+00  8.70380640e+00]\n",
              " [ 4.29683655e+00  9.09303935e-01  2.59204882e+00  3.09107487e+00\n",
              "  -2.44801521e+00 -4.07715890e+00  4.44969557e+00 -1.32123758e-01]\n",
              " [-5.41621126e+00  1.87465349e+00 -1.59847473e+00 -3.22405860e+00\n",
              "  -2.23852042e+00 -1.00667660e+00 -2.37603999e-01  1.57992835e+00]\n",
              " [ 3.36490132e+00  1.82583160e+00 -9.07481944e-03  7.44740212e-01\n",
              "   3.25931257e-03 -1.78871844e+00  2.83863582e+00 -1.15843799e+00]\n",
              " [-4.44531167e+00  3.26880846e+00 -2.71523389e+00 -4.50642164e+00\n",
              "  -1.92233291e+00  8.44522157e-02  4.56504891e-01  9.61105889e-01]\n",
              " [ 8.32581565e+00 -2.64457873e+00 -2.03829969e+00  1.57127653e+00\n",
              "   2.41220668e+00 -2.38025874e-01  1.20146737e+00 -2.06676727e+00]\n",
              " [ 1.60226787e+00 -2.73583916e-01  1.20579944e+00  2.02245613e-01\n",
              "  -7.66312412e-01 -2.84041251e+00  1.84194436e+00 -1.01110261e+00]\n",
              " [ 3.66431983e+00  5.47087471e-01  5.39437690e+00  3.25033963e+00\n",
              "  -2.87164091e+00 -6.40878850e+00  2.55862100e+00 -2.59396680e+00]\n",
              " [ 4.14591753e+00 -1.74558240e+00  7.75178895e-01 -1.51953169e+00\n",
              "   1.95100511e+00 -5.40260033e-01 -1.76504520e-01  2.93181871e+00]\n",
              " [ 6.09705535e+00 -2.72853099e-01  3.23672987e+00  1.62937824e+00\n",
              "   2.26702218e+00 -3.54295982e+00  2.34075674e+00 -2.14433484e-02]], log_prob=[-96.782547   -42.30622864 -24.95619202 -63.49291229 -67.98280334\n",
              " -40.85742188 -85.26790619 -55.05751801 -59.94848633 -34.5047226\n",
              " -73.7953186  -52.98506927 -57.66236877 -42.63191223 -66.68065643\n",
              " -30.79746246], blobs=[[-107.25059  -126.92836  -112.44492  ... -110.19565  -107.013435\n",
              "   -88.12706 ]\n",
              " [ -66.844955  -57.077454  -70.523445 ...  -70.524185  -68.131996\n",
              "   -60.44455 ]\n",
              " [ -95.279945  -72.02222   -86.92412  ...  -99.304    -104.98153\n",
              "   -77.90796 ]\n",
              " ...\n",
              " [ -91.81173  -108.398705 -112.83701  ...  -83.89584   -81.30838\n",
              "  -110.98659 ]\n",
              " [ -68.15608  -105.7702    -89.06531  ...  -82.3663    -87.59535\n",
              "   -86.64903 ]\n",
              " [ -82.8756    -94.79097   -86.65184  ...  -86.93996   -84.71748\n",
              "   -77.60033 ]], random_state=('MT19937', array([ 552843809,  583986338, 3270868369, 2662957789, 2549675914,\n",
              "       2156648813, 1470089885, 1091922942, 2163297671, 3650670468,\n",
              "        322904395,  110753426, 1655925177, 3216006095, 3798086821,\n",
              "       2019931690, 1772093647, 3199963515, 3374755504, 2929698371,\n",
              "       2294425418, 2809513873,   18858597, 1688291417,  184059478,\n",
              "        382331605, 2531102367,  565494784, 2413619224, 3510353826,\n",
              "       2400470305,  874171055, 4145728169, 2962811154, 2689810882,\n",
              "       1265151508, 1212930036, 1854720959, 4049026780, 3121387280,\n",
              "       2748525939, 2315836776, 3344761987, 2727436031, 3612887518,\n",
              "       4222530415, 3629424704,  314608427,   85909928, 2943529800,\n",
              "       4283811706, 3645992226, 3258616620, 1640863145, 2003819266,\n",
              "        888875869, 1654601966, 2788384935, 3031081607, 3188805148,\n",
              "       1737591250, 1550152497, 3391277752, 3291050342,  518280518,\n",
              "       2728008713, 3028038041,   75710336,  735832804, 1663720640,\n",
              "       4203111309, 1378311808, 3866968605, 2490225469,  636173215,\n",
              "       1596798297, 1149379292, 3314668039, 3189819320, 1317616036,\n",
              "       2099502351,  699114289,  814086118, 2516596309, 3479151049,\n",
              "       2550375385,  845936555, 3183966985, 2961126864, 2218497613,\n",
              "         33458605, 1717648338, 4294828496, 2519239470, 2214224855,\n",
              "        367695853, 1786409071, 1214413889, 2690827901, 3635227576,\n",
              "       2627269606, 3605703150,  303995974,  934184961, 4190249669,\n",
              "        944320063, 2439501171, 2318879592, 1295972393, 1187786856,\n",
              "       1912656302, 3349836883, 1792455285, 2499070153, 3908613420,\n",
              "       2372981558, 3763450311, 3025707976,  395304828,  606767393,\n",
              "       2215991970, 1857879275, 2856833619,  249908621, 1840454581,\n",
              "       4086814923, 3636590233, 1119795551,  271198563, 1092938624,\n",
              "       3746186866,  342369616, 1978262359, 3484759532, 1347931755,\n",
              "       4064466845,  591400835, 4232410977, 2992708137, 3372975275,\n",
              "       4248598832,  252763766, 1546965477,  644783582, 3072313242,\n",
              "       1466736463, 2704337910,  816573701, 1730401401, 4183419765,\n",
              "       1333073478, 1471717357, 2252259735,  493889547, 1961803430,\n",
              "         89675926, 3406639827,  658711459, 1845652492, 2033189429,\n",
              "       4257758914,  673870132, 4147500654, 1231734410, 1303658631,\n",
              "       2843645610, 2803965624, 2501330978, 3906541183,  498995353,\n",
              "       2411017449,  585476356, 3084770102, 4219684216, 2647088714,\n",
              "       4099143824,  655237582, 3592583121, 3534460735,  526098559,\n",
              "       1159045249, 3874328008, 2467399211, 2005289927, 1423274355,\n",
              "       3115081892, 3270970178, 1997743003, 2116071296,  758229487,\n",
              "        671102020, 2876980497, 1161579582, 3614080929, 2967093518,\n",
              "       2157747644,  647689910, 1532709244, 2346645619, 1202677676,\n",
              "       4013556584, 4127046126, 4049773828, 2119218630,  231969004,\n",
              "       1363619172, 3686202196,  908560082, 2798305126, 3902421037,\n",
              "       2286481457, 1340406025, 3487049861, 4083597704,  181952874,\n",
              "       2893677409, 2875744999, 1676343594, 3531291503, 1604865247,\n",
              "       1389060210,  576520414, 2654781763, 2059152930,  172287119,\n",
              "       1817860515,  688724903, 1579205562, 3620091893, 2445399173,\n",
              "       3203989751,  282348817,  457714995, 3681433520,  668539260,\n",
              "       3680815476, 1990041994, 2636607109, 3862836804,  665388180,\n",
              "        840068253,  162601099, 2536665479, 2263519161, 1744526506,\n",
              "        105404889,  269898361, 3252422848, 3082041628, 3009989737,\n",
              "       2170894132, 3068747858, 2717883075,  926372243, 3202025888,\n",
              "       4169879543, 2672297068, 1092504093,  683415341, 4172005830,\n",
              "       1323351277, 2939398132,  572666695, 1184189673, 1048036983,\n",
              "       1257224526, 1705749155, 1165133878, 1294752745, 2562068329,\n",
              "        309000359, 3980099909, 3720056078,  508366270, 1731499128,\n",
              "        540655292, 2766858738, 3102089560, 1559920099, 2023307646,\n",
              "       3417307105,  317612584, 3652198628, 2086817174,  758807235,\n",
              "       3949103096, 2302971846, 4080291043, 2377097146, 3367636283,\n",
              "       2484822827, 2816887391, 3270922844, 2432945096, 2356530233,\n",
              "       3857277420, 4111369631, 3128786728, 4238159644, 2072093102,\n",
              "       3829159652, 3397919597, 3395245957, 2329987634, 3694208332,\n",
              "       1035084093, 2644186470, 1969023349, 3102243513, 1442285949,\n",
              "        295522459, 3806638451, 2420937512,   70952939, 2225262350,\n",
              "       1737876963, 2771448271, 1832732008, 3947524141, 4064730588,\n",
              "       2080001645,  216172236, 2533746653, 2230493031, 2127356125,\n",
              "       1076800970, 1462623775, 4262903246,  722421626, 2818579470,\n",
              "       1790106812, 3925260823,  806631181, 3202439190, 1608805702,\n",
              "       4258819018, 4010985173,  534985237, 3968958467, 3316906022,\n",
              "       3929221297, 3436132241, 2127879079, 3349737158, 2601868788,\n",
              "        799593863, 2945151471, 1093929101, 2157258040,  922462985,\n",
              "       3693971448, 1287234213, 4187202211, 2195453159, 2348017843,\n",
              "       2769792707, 1850644892, 2437586811, 1189880449, 2527509723,\n",
              "       1604601979, 1013087546, 3262590421, 2262047543, 3800471837,\n",
              "       3902766863, 1584605442, 2283670637, 3094762595,  477657261,\n",
              "       4227194735, 1408817732, 2863444582, 3987784335, 1837365682,\n",
              "       1308033152, 1418754077,  329812212, 1347311802, 1816143247,\n",
              "       2854522697, 3876549017, 1881600892,  683109167, 1108609679,\n",
              "       2612553928, 2184022553, 1537032704, 1598075310, 1952717524,\n",
              "       1469723754, 3640804974,  757365557, 4070880567,  237168502,\n",
              "       1565861509, 3788762996, 2842162641, 3118881150, 3989999145,\n",
              "       3060433833, 3373423580,  721147575,   22877406, 3060080716,\n",
              "       2248531713,  447822199, 1577549415, 1996452168,  147546514,\n",
              "       2752091907, 2436860595, 1205549963, 4261343860, 3849662635,\n",
              "       4155646937, 3715236230,  846773634, 1373760357,  960094191,\n",
              "        693172695, 2480602970,  341680719,  169753011, 1199798953,\n",
              "        268349081, 3443678492,   60989541, 1908646676, 2589898837,\n",
              "       2185381690, 2941874933, 1221875467,  914163716, 2558618910,\n",
              "       1638943882, 2950244816, 2200236243,   15599118, 1446184198,\n",
              "       3723944946, 2231250744, 3583400641, 2575744633,  796287053,\n",
              "       3061392933,   16873888, 3179570430, 2460654255, 3664877697,\n",
              "        293403585,  118360590, 1359523023, 2227585556, 2210659763,\n",
              "       1751177244, 3832091281, 1836757195, 2527214954, 4096621903,\n",
              "        353186220, 2360027720, 3970061325, 3635391556, 1167969035,\n",
              "       2637465668, 2152372852, 3043589959, 1134698836, 3960118326,\n",
              "       1820069756,   79209395, 2335724889, 2189142520, 2313426065,\n",
              "       3629544223, 2407670169, 4212724452, 2599171221, 2242783853,\n",
              "        300665379, 4123003943, 2507343520,  473802218, 2690679908,\n",
              "       4069123976, 2519737330, 1461721590,  900079679, 1353543308,\n",
              "       2383466703, 1063640557, 1894290346, 4037989220, 1896001165,\n",
              "       1402038356, 3357549831,  432913823, 2282750269,  746579203,\n",
              "       1505359474, 3975373243,  380191431, 1223247204,  199703921,\n",
              "       1755271777, 4128720956, 1244984643, 3870591697, 1395305205,\n",
              "       3785524775, 3781703965, 1411965061, 2169932972, 4052067156,\n",
              "       1652745262, 2905050948, 1028585628,  316285125, 2151583310,\n",
              "       3740889194, 2164197923, 2774894444,  573020094, 2685152635,\n",
              "       1464510068, 1253487097,  179979863, 2121596145, 3089123901,\n",
              "       2403030917,  972136024, 4249004561,  502075865,  401249671,\n",
              "       4058620748,  673404870,  550982613,  693455571, 3369771659,\n",
              "       2238677444, 1215641252, 2746289985, 2956714613, 2026378941,\n",
              "       2134917158, 2135591642, 3416728482,  974184474, 2372194803,\n",
              "        495256551,  839943595,  689040017, 2063500954, 3997335550,\n",
              "        479459834,  119955520, 1935254817, 3696116267,  326323056,\n",
              "       1770040198, 1286661914, 1349088597,  736570548, 3523976162,\n",
              "       3537230010, 3836267884, 1831894310, 3891607861, 1256639236,\n",
              "       3720486439, 3808453627, 2962971524, 1692195808, 2522665362,\n",
              "       1048904230, 2894790508,  213321086,  248092414, 1453961420,\n",
              "       1092977273, 3363220146, 1651111597,  219255752, 1185945915,\n",
              "       2460687972, 2077382244, 1737052927, 2765913756, 2147787495,\n",
              "       2188226762,  877344553,  848200337,  122424067, 1183819177,\n",
              "       2308251464, 1174499889, 3132280505, 4155963239, 2976507190,\n",
              "        958231186,  344249811, 3192644637, 4206592374, 1371442039,\n",
              "       1334727255,  155713829, 1496312623, 3137177952, 3477888150,\n",
              "        810701128, 2002666686,  570937984,  294006461,  218492971,\n",
              "       2254550444,  225018748,  331124248, 2568272541, 3596165451,\n",
              "       3464488811, 3314928572, 1142359319, 1755480763], dtype=uint32), 279, 0, 0.0))"
            ]
          },
          "metadata": {},
          "execution_count": 64
        }
      ]
    },
    {
      "cell_type": "code",
      "source": [
        "sampler.run_mcmc(p0, 200, progress=True)"
      ],
      "metadata": {
        "colab": {
          "base_uri": "https://localhost:8080/"
        },
        "id": "9bhXXLMRkDjZ",
        "outputId": "674a6bfb-4cb0-488c-f410-14470484b6a9"
      },
      "execution_count": 68,
      "outputs": [
        {
          "output_type": "stream",
          "name": "stderr",
          "text": [
            "100%|██████████| 200/200 [53:04<00:00, 15.92s/it]\n"
          ]
        },
        {
          "output_type": "execute_result",
          "data": {
            "text/plain": [
              "State([[ -8.57250594  -3.82960602 -10.13671344  -2.12182924  -4.13677075\n",
              "    5.01165635   0.72607203  -1.03949218]\n",
              " [ -0.84965139   2.61495303  -0.19548451  -1.24432676  -2.59376705\n",
              "   -3.77210005   1.44877986   0.1660212 ]\n",
              " [  0.33956554   3.03326887   3.41161207  -1.00023075   1.4459418\n",
              "   -2.1593444    2.32044297   1.46039485]\n",
              " [  0.48339343   2.32720644  -0.7180529   -2.8782301   -0.7878994\n",
              "   -1.6073337    1.66383124   0.95486344]\n",
              " [  2.28071244   3.29191803   4.43432475   1.63050452  -6.40402708\n",
              "   -9.56220958  -0.3262013   -1.53205988]\n",
              " [ -0.33340351  -0.98616684  -4.91915002   1.38797101  -3.70861645\n",
              "    1.18664409   0.86115951   1.39382417]\n",
              " [ -0.18236397   4.48475367  12.19927432   6.21095213   0.37096349\n",
              "   -7.16548144   3.91353266   2.99889201]\n",
              " [  1.72099067   2.48261592   1.0477686    1.09336427   2.0709208\n",
              "   -2.18477068   2.22473111   1.94395475]\n",
              " [  1.3636708    3.26556809  -1.71223336  -7.06020113   0.1857288\n",
              "    0.49714845   1.78256088   1.51961288]\n",
              " [  1.63297115   5.92155095   1.91630651  -1.10779683   1.79317969\n",
              "   -2.10041418   2.3895193    0.31438818]\n",
              " [  3.51457562   4.59693489   0.72489519   1.00040829   0.82465749\n",
              "   -6.02602638   3.03319339   1.02220288]\n",
              " [  1.55893282   2.16973903   2.79279709  -1.09085155   0.91673264\n",
              "   -2.70534102   1.15263444   2.50393398]\n",
              " [  0.56087611   1.17963891  -0.36512525  -3.36952749  -2.06179938\n",
              "   -2.4003949    1.85376979  -0.76658269]\n",
              " [  0.53966066   3.53295316   4.16025297   1.37106319   0.66900719\n",
              "   -3.94366934   2.32100402   0.49931669]\n",
              " [  1.79152816   1.64991565   5.05995211   2.03359851   4.14502535\n",
              "   -2.15657861   2.06903167   3.12913808]\n",
              " [ -0.87312224   4.73712584   7.69268291  -1.07430598  -5.02553542\n",
              "   -5.60330568  -0.57633938  -0.29067461]], log_prob=[-80.71755219 -39.10174561 -49.34487152 -31.87221527 -49.67650604\n",
              " -47.16945648 -56.20783234 -44.92668915 -17.8004303  -48.28930664\n",
              " -41.53780365 -39.31803131 -40.11135864 -51.32933044 -49.29092407\n",
              " -31.91603851], blobs=[[ -86.55849  -103.03056   -99.16143  ... -122.25558  -115.53012\n",
              "  -127.182625]\n",
              " [ -97.152145  -86.89092   -68.41897  ...  -68.9851   -101.66719\n",
              "   -74.56526 ]\n",
              " [ -73.65111   -93.93079   -95.558075 ...  -99.77385  -103.17907\n",
              "   -84.27023 ]\n",
              " ...\n",
              " [-103.94101   -86.82427   -77.33827  ...  -70.30574   -84.79133\n",
              "   -51.117172]\n",
              " [ -85.23109   -88.26921   -82.30109  ...  -86.18663   -84.70917\n",
              "   -99.24193 ]\n",
              " [ -87.25695   -96.03717   -96.570656 ... -102.89223   -83.338524\n",
              "   -99.42845 ]], random_state=('MT19937', array([2909251900, 3914585281, 1553079064, 2628484990,  948864626,\n",
              "       4136383413, 3054943261, 2148162699,  153858033, 1586170591,\n",
              "        940345547, 3805863895, 2619446901, 4290700269, 2118001115,\n",
              "       1645249863, 3141280904,  667710456, 3896121078,  706425424,\n",
              "        200408308, 3776746361, 2113919781, 3989657997, 3570579338,\n",
              "        218612957, 2780109653, 1733275344, 1981468454, 2273191854,\n",
              "       1485682791, 3031508698, 2256075318, 1630531397, 2151981407,\n",
              "        574443436, 3558094232, 1538048724, 2985443512, 3313300061,\n",
              "        763656939, 1354435299, 3307777117, 2454114687, 1885673864,\n",
              "       1950449719,  434779578, 3234117307, 4086235378, 3988556681,\n",
              "        885820947, 2091707162, 3643306040, 3561681084, 2680685536,\n",
              "       3804483301,  639663915, 3760527375,  311751577, 3785577112,\n",
              "       3157136636,  204910466, 2133793814, 3504000747, 1175172737,\n",
              "       3188478201, 3705182641, 3488319605, 3399877461,  271565462,\n",
              "       1578672429,  885742949, 3632735497, 4014267275, 3327948445,\n",
              "       1352737958,  959647129,   85590851, 4125147850, 3961275164,\n",
              "       2985209517, 3590385725, 1259565043, 3337158772, 1838617179,\n",
              "       2747763762, 3952164773, 3160117663,  210310505, 3479932074,\n",
              "       2725863972, 2265772151, 2053004366, 2246531151,  125539178,\n",
              "         87627468, 1979706286,  250896586, 2570525316, 2740429294,\n",
              "       3736204092, 3408541824, 1494564199, 4087463635, 4065877468,\n",
              "        921404969, 2206707761, 1772617476, 1934093628, 2048582539,\n",
              "       1227201593, 2981075589, 3806630668, 3404246618, 2003142737,\n",
              "       2314836714, 1099077239,  392415138, 2783396182, 4157500693,\n",
              "        936670450, 2033234609, 3594029497, 4006989238, 1202498819,\n",
              "       1850684434, 1753367774,  615826657,  949959520, 1559310613,\n",
              "       2821196252, 2302697518, 1984346178, 4153522817, 2072279819,\n",
              "       2468903241, 3669872430, 1747439131, 3550745054, 1254116310,\n",
              "       3585670754, 1104355076,  231531776,  191810901, 1249922203,\n",
              "       3000419573, 2592973939,    5459397, 3258264855, 3560124185,\n",
              "       3611577020, 3619906357, 3964001028, 3733586463, 3098369247,\n",
              "       2563061064, 3833853222, 2333642965,  565969388, 1061841151,\n",
              "       3747827112, 2057642303,  286327836, 4273460894, 2072561688,\n",
              "       3072683791, 1026467753, 3499751283, 3035595798,  115453033,\n",
              "       2707860247, 3797677951, 1405204586, 1565164888, 2402148598,\n",
              "       1852808322, 1845982907, 1902996853, 1074459822, 2556724960,\n",
              "          4683822, 3491190397,   79518672, 4040824167, 1380808805,\n",
              "       2202158571, 4014756866, 1100681154,  975840290, 3725313790,\n",
              "       1035955962, 3688319996, 2001367197,  108647772, 1055458078,\n",
              "       1394559774, 2983195785, 3725973277,  627981359,  112400818,\n",
              "       1800294001, 3537172542,  270263936, 2902446785, 4052548618,\n",
              "       2942536738, 1051015271, 2012437130, 2184255539, 3407349946,\n",
              "        626428538, 3091913948, 2545523453,   18091863, 1394878794,\n",
              "        763192090,  945739531, 2096011457, 3541040432, 4060994891,\n",
              "       2165341984, 1241728134, 3104073681, 3553948288, 3157110193,\n",
              "       2239222309, 3337866140, 3503435692, 2378161492,  196552393,\n",
              "       2942702078, 3610690895, 1718220777, 2845101881, 1338998146,\n",
              "       2150259671, 2624059565,  544243459,  973635441, 1114865872,\n",
              "        836638255, 3327694052,  718285363,  823291899, 4179076564,\n",
              "       2086591162, 4274224195,  421065626, 1644681602, 3024129810,\n",
              "       2714508130, 2275451433,  381961536, 2330236457, 2746715598,\n",
              "       1087906915, 2904601685, 3050878880,  799923140,  948506060,\n",
              "       2268576007, 3226240341, 2823407507, 2380786980, 3268878668,\n",
              "       2787513192, 1399667192,  965205496,  690320673, 2041294886,\n",
              "       1551777397, 1790815085, 3455051861, 2176730766, 2091215666,\n",
              "       1619712713, 4120223706, 3616539988, 1069647212, 1901245554,\n",
              "       2711532331, 2302543806, 3077590028, 2779922409, 3495924759,\n",
              "        504756526, 4171811538, 3671537214, 3977102832, 2359592076,\n",
              "       1759146688, 1041999741, 4259103485, 2605080995,  691183655,\n",
              "       1591427879, 1842139214, 1989977956, 1214048809, 1292738366,\n",
              "       2430167877, 3031454471, 1548171866, 3761832793, 1023836991,\n",
              "        788567408, 1321501823, 2752632804, 3694996369, 2239098538,\n",
              "        136302806, 1560502132, 3245150730,  402577663, 3034628644,\n",
              "         17267883, 3299060958, 1041981929, 4139267198,  781877594,\n",
              "       2977408413, 2187774944, 3503476746,  926829655, 1013578145,\n",
              "       3832443996, 3310149148, 4184623141, 3320756144, 1117235709,\n",
              "       3771859889, 3453380561, 2453791089, 3956265757, 4051778996,\n",
              "       3626839517, 1522998296,   84823568,  153383080,  276691590,\n",
              "       2848735490, 3774239116,   93621801, 3089044014, 2101502091,\n",
              "       1727440072,  347947831, 1837331532, 1137626114, 2645024613,\n",
              "        184400702, 2809748731, 3958460581, 1494510220,  544287177,\n",
              "        212482137, 2991085719, 1479588187, 1357021476, 2996855877,\n",
              "       3799777478, 1549292693, 1129574499, 1680190247, 2527593069,\n",
              "       1302382045, 3536166267,  845702195, 3128124176,  833087375,\n",
              "       1720647004, 3119653492, 3332652078, 1207230076,  575867070,\n",
              "       3139454139, 2531500434, 1592074288, 2580156174, 1939345963,\n",
              "       1103796793,  698614986, 1691517111, 2734529012, 2729273236,\n",
              "       2265741386, 1186118973,  662246651, 1844118712,  285256436,\n",
              "       1370715202, 2439393726, 2764821162,   64432013, 1596831832,\n",
              "        819057650, 1487247953,   78411531,  118752319, 3637429239,\n",
              "       1730708634, 1457812097, 2961166422, 1377050580, 3276423237,\n",
              "       3254807961,  723551568, 1410138982,  812244230,  745348875,\n",
              "        598883458, 2342768021, 3368307781, 3317726525, 3526585665,\n",
              "       1097461050, 2007018663, 1507982108, 2521323576, 1869005317,\n",
              "       2882091257, 2854262638, 4060565559, 1300801807, 2539790030,\n",
              "       1466878555, 3120160735, 1267116916, 3252968173, 1089837220,\n",
              "       1410262784, 3290892284,  783368172, 3027339076, 3271361398,\n",
              "       3900973356, 1242009862, 1435850745, 4259783596, 1209050474,\n",
              "       2083492193, 1395220618, 1150715239, 1069526229,  131094401,\n",
              "        370191040, 3687674077,  173143341, 2842895229,  546172852,\n",
              "       1830370782, 1742625474,  363610251,  410242122, 3366693791,\n",
              "       3313291630,  963621644, 1788917614, 1329383546, 2969851756,\n",
              "        682687323, 3547746176, 3812517166,  949319410,  765080141,\n",
              "        371168070,  696958431, 3205016823, 4102239712, 2440316270,\n",
              "       1042744962, 1797754278, 1425897996, 2354960543,   73570021,\n",
              "       3875711323,  825083402, 2365318854, 3104929453, 4052796535,\n",
              "        701489134, 4015786411,   23224755, 1460900337,  814916273,\n",
              "       4188496251, 2802657676, 2273400168,  945423675, 3550385497,\n",
              "       4020590437, 2806795621, 1016953293,  326935570, 1134444713,\n",
              "        652202655, 4138401980, 3634080932, 2234191961,  169835508,\n",
              "       1589912000, 4227900199, 1344121381, 3013966253, 2902629139,\n",
              "       3565102147,  966301569, 2628860493, 2152105167,  701936199,\n",
              "       4268969327, 2465291771,  414231242,  805162164,  831055363,\n",
              "       3758268688, 2978259328, 2001241837, 3567828788, 1057906392,\n",
              "       2089141207, 4144272649, 1098445391, 3716164566, 1667340823,\n",
              "       3555758158, 2047551167, 2183003680, 2090077583,  957402973,\n",
              "         39644490,  713011599,  642743879, 1712418444, 1024081249,\n",
              "       1017947793, 3070309314, 1515935180, 3412538526, 1460977693,\n",
              "       3345718245, 2426228995, 3628476815, 1414030308, 1552043843,\n",
              "       3130414631, 2160836404, 2210665580,  726984783, 2351365641,\n",
              "       4145086208, 1116491232, 1840195698, 3677711301,  867066376,\n",
              "       1958877637,  780056359, 1153016725,  828496224, 1913122863,\n",
              "       2898740218,  332285514, 3127553964, 4131340599, 3765284219,\n",
              "       2973334902, 2787384188,  400990459, 3488555311,  496773706,\n",
              "       2173741940, 1185294180, 1785781618, 2749738383, 3229233276,\n",
              "       1076616294, 2814200242, 3997060698, 2107129177,  906590874,\n",
              "        228359998,  328071575,  636084498,  259984234,  126213920,\n",
              "       2072748623,  313001546,  545460377,   94448942,  986344086,\n",
              "        109280587, 2214536593, 1877268073,  600518299, 2523175585,\n",
              "       1112493885, 3946749723, 3209344806, 3702169530,  494609756,\n",
              "       2412787065, 2979122245, 2253650322,  769946383, 1339873009,\n",
              "       1133384569, 3449067855, 3590129297,  284252882, 2801860644,\n",
              "       1205212143, 3496035544,  916614273, 3688712251,  163293836,\n",
              "       2747059080, 2741392902, 3355724183, 3093002430, 2833694430,\n",
              "        571233286, 1558055339, 1219876778,  236342991], dtype=uint32), 569, 0, 0.0))"
            ]
          },
          "metadata": {},
          "execution_count": 68
        }
      ]
    },
    {
      "cell_type": "code",
      "source": [
        "import matplotlib.pyplot as plt\n",
        "\n",
        "samples = sampler.get_chain(flat=True)\n",
        "\n",
        "f,ax = plt.subplots(2,4,constrained_layout=True, sharex=True,figsize=(8,4))\n",
        "for i in range(8):\n",
        "  ax.flat[i].hist(samples[1000:, i], 10, color=\"k\", histtype=\"step\")\n",
        "  ax.flat[i].axvline(input_cond[0].numpy()[0,i])\n",
        "  ax.flat[i].set_title(condition_columns[i][7:])\n",
        "# plt.axvline(input_cond[0].numpy()[0,0])"
      ],
      "metadata": {
        "colab": {
          "base_uri": "https://localhost:8080/",
          "height": 313
        },
        "id": "KsvsOkCAq3Fb",
        "outputId": "72e3dcd2-f342-4fa5-bb52-e91e686043ab"
      },
      "execution_count": 72,
      "outputs": [
        {
          "output_type": "display_data",
          "data": {
            "text/plain": [
              "<Figure size 576x288 with 8 Axes>"
            ],
            "image/png": "[encoded data removed]"
          },
          "metadata": {
            "needs_background": "light"
          }
        }
      ]
    },
    {
      "cell_type": "code",
      "source": [
        ""
      ],
      "metadata": {
        "id": "YY2VxGd-9iur"
      },
      "execution_count": null,
      "outputs": []
    }
  ]
}