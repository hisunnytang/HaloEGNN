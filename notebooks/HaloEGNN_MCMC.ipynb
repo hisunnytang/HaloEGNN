{
  "nbformat": 4,
  "nbformat_minor": 0,
  "metadata": {
    "colab": {
      "name": "HaloEGNN_time.ipynb",
      "provenance": [],
      "collapsed_sections": [],
      "mount_file_id": "1o9di3SJyYYQ88c0D90z6iOGh7PJl_60y",
      "authorship_tag": "ABX9TyOqWFHZsuow2KHuo3zYwMbt",
      "include_colab_link": true
    },
    "kernelspec": {
      "name": "python3",
      "display_name": "Python 3"
    },
    "language_info": {
      "name": "python"
    },
    "accelerator": "GPU"
  },
  "cells": [
    {
      "cell_type": "markdown",
      "metadata": {
        "id": "view-in-github",
        "colab_type": "text"
      },
      "source": [
        "<a href=\"https://colab.research.google.com/github/hisunnytang/HaloEGNN/blob/main/notebooks/HaloEGNN_MCMC.ipynb\" target=\"_parent\"><img src=\"https://colab.research.google.com/assets/colab-badge.svg\" alt=\"Open In Colab\"/></a>"
      ]
    },
    {
      "cell_type": "code",
      "execution_count": 1,
      "metadata": {
        "id": "b7HIBGa-LVQO"
      },
      "outputs": [],
      "source": [
        "%%capture\n",
        "!pip install torchdiffeq\n",
        "!pip install gdown\n",
        "!git clone https://github.com/hisunnytang/HaloEGNN.git"
      ]
    },
    {
      "cell_type": "code",
      "source": [
        "!nvidia-smi\n",
        "!lscpu"
      ],
      "metadata": {
        "colab": {
          "base_uri": "https://localhost:8080/"
        },
        "id": "yWHjD8xcLiqP",
        "outputId": "895ef4a9-7c80-42e1-8223-9632f10350e4"
      },
      "execution_count": 2,
      "outputs": [
        {
          "output_type": "stream",
          "name": "stdout",
          "text": [
            "Mon Apr  4 17:04:15 2022       \n",
            "+-----------------------------------------------------------------------------+\n",
            "| NVIDIA-SMI 460.32.03    Driver Version: 460.32.03    CUDA Version: 11.2     |\n",
            "|-------------------------------+----------------------+----------------------+\n",
            "| GPU  Name        Persistence-M| Bus-Id        Disp.A | Volatile Uncorr. ECC |\n",
            "| Fan  Temp  Perf  Pwr:Usage/Cap|         Memory-Usage | GPU-Util  Compute M. |\n",
            "|                               |                      |               MIG M. |\n",
            "|===============================+======================+======================|\n",
            "|   0  Tesla P100-PCIE...  Off  | 00000000:00:04.0 Off |                    0 |\n",
            "| N/A   34C    P0    27W / 250W |      0MiB / 16280MiB |      0%      Default |\n",
            "|                               |                      |                  N/A |\n",
            "+-------------------------------+----------------------+----------------------+\n",
            "                                                                               \n",
            "+-----------------------------------------------------------------------------+\n",
            "| Processes:                                                                  |\n",
            "|  GPU   GI   CI        PID   Type   Process name                  GPU Memory |\n",
            "|        ID   ID                                                   Usage      |\n",
            "|=============================================================================|\n",
            "|  No running processes found                                                 |\n",
            "+-----------------------------------------------------------------------------+\n",
            "Architecture:        x86_64\n",
            "CPU op-mode(s):      32-bit, 64-bit\n",
            "Byte Order:          Little Endian\n",
            "CPU(s):              2\n",
            "On-line CPU(s) list: 0,1\n",
            "Thread(s) per core:  2\n",
            "Core(s) per socket:  1\n",
            "Socket(s):           1\n",
            "NUMA node(s):        1\n",
            "Vendor ID:           GenuineIntel\n",
            "CPU family:          6\n",
            "Model:               85\n",
            "Model name:          Intel(R) Xeon(R) CPU @ 2.00GHz\n",
            "Stepping:            3\n",
            "CPU MHz:             2000.174\n",
            "BogoMIPS:            4000.34\n",
            "Hypervisor vendor:   KVM\n",
            "Virtualization type: full\n",
            "L1d cache:           32K\n",
            "L1i cache:           32K\n",
            "L2 cache:            1024K\n",
            "L3 cache:            39424K\n",
            "NUMA node0 CPU(s):   0,1\n",
            "Flags:               fpu vme de pse tsc msr pae mce cx8 apic sep mtrr pge mca cmov pat pse36 clflush mmx fxsr sse sse2 ss ht syscall nx pdpe1gb rdtscp lm constant_tsc rep_good nopl xtopology nonstop_tsc cpuid tsc_known_freq pni pclmulqdq ssse3 fma cx16 pcid sse4_1 sse4_2 x2apic movbe popcnt aes xsave avx f16c rdrand hypervisor lahf_lm abm 3dnowprefetch invpcid_single ssbd ibrs ibpb stibp fsgsbase tsc_adjust bmi1 hle avx2 smep bmi2 erms invpcid rtm mpx avx512f avx512dq rdseed adx smap clflushopt clwb avx512cd avx512bw avx512vl xsaveopt xsavec xgetbv1 xsaves arat md_clear arch_capabilities\n"
          ]
        }
      ]
    },
    {
      "cell_type": "code",
      "source": [
        "# !cp /content/drive/MyDrive/HaloEGNN_sample_data/subhalo_columns.npy .\n",
        "!cp /content/drive/MyDrive/HaloEGNN_sample_data/newdata.zip ."
      ],
      "metadata": {
        "id": "PL40bDdcLlWp"
      },
      "execution_count": 3,
      "outputs": []
    },
    {
      "cell_type": "code",
      "source": [
        "%%capture\n",
        "!unzip newdata.zip"
      ],
      "metadata": {
        "id": "_zyPBQAVLq6I"
      },
      "execution_count": 4,
      "outputs": []
    },
    {
      "cell_type": "code",
      "source": [
        "from HaloEGNN.HaloEGNNFlows.train import *"
      ],
      "metadata": {
        "id": "_ocYWxovLtHp"
      },
      "execution_count": 5,
      "outputs": []
    },
    {
      "cell_type": "code",
      "source": [
        "import numpy as np\n",
        "import torch\n",
        "import glob\n",
        "import pandas as pd\n",
        "import ipywidgets as widgets\n",
        "import seaborn as sns\n",
        "import pickle\n",
        "from HaloEGNN.HaloEGNNFlows.EGNNFlows.models import get_model\n",
        "from HaloEGNN.HaloEGNNFlows.EGNNFlows.datasets import \\\n",
        "(\n",
        " ProgenitorDataset,\n",
        " find_closest_redshift_slice, \n",
        " prepare_input_data\n",
        " )\n",
        "\n",
        "from HaloEGNN.HaloEGNNFlows.EGNNFlows.viz.utils import compute_metric_features\n",
        "from HaloEGNN.HaloEGNNFlows.EGNNFlows.flows.utils import assert_correctly_masked\n",
        "from HaloEGNN.HaloEGNNFlows.EGNNFlows.flow_forward import  flow_forward\n",
        "\n",
        "\n",
        "from HaloEGNN.HaloEGNNFlows.EGNNFlows.flows.utils import assert_mean_zero_with_mask, remove_mean_with_mask,\\\n",
        "        assert_correctly_masked\n",
        "from HaloEGNN.HaloEGNNFlows.EGNNFlows.utils import subtract_the_boundary\n",
        "import re\n",
        "from collections import OrderedDict"
      ],
      "metadata": {
        "id": "HodXI5mFLvml"
      },
      "execution_count": 6,
      "outputs": []
    },
    {
      "cell_type": "code",
      "source": [
        "import time\n",
        "def time_perf(func):\n",
        "  def time_func(**kwargs):\n",
        "    t0 = time.time()\n",
        "    print(kwargs)\n",
        "    nll = func(**kwargs)\n",
        "    print(f\"Time taken: {time.time() - t0:.3f}; nll: {nll:.3f}\")\n",
        "  return time_func"
      ],
      "metadata": {
        "id": "nfHnqieGTqQa"
      },
      "execution_count": 7,
      "outputs": []
    },
    {
      "cell_type": "code",
      "source": [
        "filelist = sorted(glob.glob(\"TNG300_preprocessed_data/prog_sublink_*.npy\"))\n",
        "data_columns = np.load(\"TNG300_preprocessed_data/subhalo_columns.npy\")\n",
        "max_progenitors = 20\n",
        "initial_slice = 0\n",
        "final_slice = 1\n",
        "\n",
        "# The \"scalar\" feature bounded to the progenitors\n",
        "feature_columns = [\"SubhaloMass\", \"SubhaloMergeRedshift\"]\n",
        "# The \"positional\" feature bounded to the progenitors\n",
        "position_columns = [\"SubhaloPos_0\", \"SubhaloPos_1\", \"SubhaloPos_2\"]\n",
        "\n",
        "# initialize the list condtional columns at redshift 0\n",
        "condition_columns = [\n",
        "    \"SubhaloBHMass\",\n",
        "    \"SubhaloBHMdot\",\n",
        "    \"SubhaloGasMetallicity\",\n",
        "    \"SubhaloStarMetallicity\",\n",
        "    \"SubhaloMass\",\n",
        "    \"DMFrac\",\n",
        "    \"GasFrac\",\n",
        "    \"StarWindFrac\",\n",
        "    \"BHFrac\",\n",
        "    \"SubhaloSFR\",\n",
        "    \"SubhaloVmax\",\n",
        "    \"SubhaloVelDisp\",\n",
        "]\n",
        "\n",
        "n_dims = len(position_columns)\n",
        "in_node_nf = len(feature_columns)\n",
        "context_node_nf = len(condition_columns)\n",
        "\n",
        "@time_perf\n",
        "def get_nll(\n",
        "    ckpt_path=\"egnn_7_val=43.972.pt\", \n",
        "    device='cpu', \n",
        "    bsz=1,\n",
        "    rtol=1e-4,\n",
        "    trace_method='exact'\n",
        "    ):\n",
        "\n",
        "  prior, flow = get_model(\n",
        "      in_node_nf=in_node_nf, \n",
        "      dynamics_in_node_nf=1, \n",
        "      context_node_nf=context_node_nf, \n",
        "      n_dims=3, \n",
        "      device=device)\n",
        "\n",
        "  ckpt = torch.load(ckpt_path, map_location=torch.device(device))\n",
        "\n",
        "  state_dict = ckpt['model_state_dict']\n",
        "\n",
        "  model_dict = OrderedDict()\n",
        "  pattern = re.compile('module.')\n",
        "  for k,v in state_dict.items():\n",
        "      if re.search(\"module\", k):\n",
        "          model_dict[re.sub(pattern, '', k)] = v\n",
        "      else:\n",
        "          model_dict[k] = v\n",
        "  flow.load_state_dict(model_dict)\n",
        "\n",
        "\n",
        "\n",
        "  dataset = ProgenitorDataset(\n",
        "          filelist,\n",
        "          condition_columns=condition_columns,\n",
        "          position_columns=position_columns,\n",
        "          feature_columns=feature_columns,\n",
        "          max_progenitors=max_progenitors,\n",
        "          initial_slice=initial_slice,\n",
        "          final_slice=final_slice,\n",
        "          data_columns=data_columns,\n",
        "      )\n",
        "\n",
        "  condition_transform = pickle.load(open('scaler.pkl','rb'))\n",
        "  dl = torch.utils.data.DataLoader(dataset,batch_size=bsz)\n",
        "\n",
        "  # tiny snippet to transform redshift to scale factor\n",
        "  def transform_z_to_scale(z_idx):\n",
        "      def transform_graph(input_graph):\n",
        "          # transform only the features\n",
        "          if z_idx is None:\n",
        "              return input_graph\n",
        "          x, h, node_mask, edge_mask = input_graph\n",
        "          h[:, :, z_idx] = 1 / (1 + h[:, :, z_idx])\n",
        "          return x, h, node_mask, edge_mask\n",
        "      return transform_graph\n",
        "  zidx = None\n",
        "  if \"SubhaloMergeRedshift\" in feature_columns:\n",
        "      zidx = feature_columns.index(\"SubhaloMergeRedshift\")\n",
        "      print(zidx, \"feature with this index would be transform to 1/(1+z)\")\n",
        "  transform_input = transform_z_to_scale(zidx)\n",
        "\n",
        "\n",
        "  flow.training = False\n",
        "  flow.transformations[1]._rtol = rtol\n",
        "  flow.transformations[1]._atol = rtol\n",
        "  flow.transformations[1].odefunc.method = trace_method\n",
        "  flow.transformations[1].odefunc.ode_regularization = 0.0\n",
        "\n",
        "\n",
        "  input_graph, input_cond = next(iter(dl))\n",
        "  # normalize the input condition\n",
        "  input_cond = [ torch.from_numpy(condition_transform.transform(input_cond[0])) ]\n",
        "  # \n",
        "  input_graph = transform_input(input_graph)\n",
        "\n",
        "  with torch.no_grad():\n",
        "    nll, loss, z_x, z_h = flow_forward(\n",
        "        flow, \n",
        "        prior, \n",
        "        input_graph, \n",
        "        input_cond, \n",
        "        device=device, \n",
        "        ode_regularization=0.01\n",
        "        )\n",
        "\n",
        "  return nll\n",
        "\n",
        "\n",
        "def flow_logpx(flow,\n",
        "                 prior,\n",
        "                 input_graph,\n",
        "                 input_cond,\n",
        "                 device='cuda',\n",
        "                 x_norm=300,\n",
        "                 ode_regularization=0.01):\n",
        "    x, h, node_mask, edge_mask = input_graph\n",
        "    context = input_cond[0]\n",
        "\n",
        "    x = x.to(device)\n",
        "    h = h.to(device)\n",
        "    node_mask = node_mask.to(device)\n",
        "    edge_mask = edge_mask.to(device)\n",
        "    context   = context.to(device)\n",
        "\n",
        "    subtract_the_boundary(x, node_mask)\n",
        "    xx = remove_mean_with_mask(x, node_mask)\n",
        "\n",
        "    # h = log_normalize_with_mask(h, node_mask)\n",
        "\n",
        "    h = (h+1e-8).log()* node_mask\n",
        "    # dont normalize here\n",
        "    #context = log_norm_target(context)\n",
        "\n",
        "    # center the position coordinate\n",
        "    xx = remove_mean_with_mask(x/x_norm, node_mask)\n",
        "    assert_mean_zero_with_mask(xx, node_mask)\n",
        "\n",
        "    bs, n_nodes, n_dims = xx.size()\n",
        "    # inflate context (condition) in to the shape of [batch, max_nodes, n_context]\n",
        "    context_ = context.unsqueeze(1).repeat(1, n_nodes, 1)* node_mask\n",
        "    assert_correctly_masked(context_, node_mask)\n",
        "\n",
        "    xh = torch.cat([xx, h], dim=2)\n",
        "    assert_correctly_masked(xh, node_mask)\n",
        "\n",
        "    edge_mask = edge_mask.view(bs, n_nodes * n_nodes)\n",
        "\n",
        "\n",
        "    z, delta_logp, reg_term = flow(xh.float(),\n",
        "                                   node_mask.float(),\n",
        "                                   edge_mask.float(),\n",
        "                                   context_.float())\n",
        "    z_x, z_h = z[:, :, 0:n_dims].clone(), z[:, :, n_dims:].clone()\n",
        "\n",
        "    assert_correctly_masked(z_x, node_mask)\n",
        "    assert_correctly_masked(z_h, node_mask)\n",
        "\n",
        "    N = node_mask.squeeze(2).sum(1).long()\n",
        "\n",
        "    log_qh_x = 0\n",
        "    log_pz = prior(z_x, z_h, node_mask)\n",
        "    log_px = (log_pz + delta_logp - log_qh_x)  # Average over batch.\n",
        "    return log_px"
      ],
      "metadata": {
        "id": "YKh6e_QKLxyt"
      },
      "execution_count": 8,
      "outputs": []
    },
    {
      "cell_type": "markdown",
      "source": [
        "# How does ensemble estimate of Hutch perform compared to exact calculations?"
      ],
      "metadata": {
        "id": "FpzR5rwtWdj6"
      }
    },
    {
      "cell_type": "code",
      "source": [
        "dataset = ProgenitorDataset(\n",
        "        filelist,\n",
        "        condition_columns=condition_columns,\n",
        "        position_columns=position_columns,\n",
        "        feature_columns=feature_columns,\n",
        "        max_progenitors=max_progenitors,\n",
        "        initial_slice=initial_slice,\n",
        "        final_slice=final_slice,\n",
        "        data_columns=data_columns,\n",
        "    )\n",
        "\n",
        "\n",
        "\n",
        "condition_transform = pickle.load(open('scaler.pkl','rb'))\n",
        "\n",
        "\n",
        "# tiny snippet to transform redshift to scale factor\n",
        "def transform_z_to_scale(z_idx):\n",
        "    def transform_graph(input_graph):\n",
        "        # transform only the features\n",
        "        if z_idx is None:\n",
        "            return input_graph\n",
        "        x, h, node_mask, edge_mask = input_graph\n",
        "        h[:, :, z_idx] = 1 / (1 + h[:, :, z_idx])\n",
        "        return x, h, node_mask, edge_mask\n",
        "    return transform_graph\n",
        "zidx = None\n",
        "if \"SubhaloMergeRedshift\" in feature_columns:\n",
        "    zidx = feature_columns.index(\"SubhaloMergeRedshift\")\n",
        "transform_input = transform_z_to_scale(zidx)\n",
        "\n",
        "def preprocess_inputs(ds, idx):\n",
        "  # select only one element! \n",
        "  # from the dataset by index\n",
        "  tmp1, tmp2 = ds[idx]\n",
        "  input_graph = [t.unsqueeze(0) for t in tmp1]\n",
        "  input_graph = transform_input(input_graph)\n",
        "  input_cond  = [torch.from_numpy(condition_transform.transform(t.unsqueeze(0))) for t in tmp2]\n",
        "  return input_graph, input_cond"
      ],
      "metadata": {
        "id": "4kBcSPcPWqaY"
      },
      "execution_count": 10,
      "outputs": []
    },
    {
      "cell_type": "code",
      "source": [
        "def repeat_batch(input_cond_np, input_graph, nrepeats=30):\n",
        "  \"\"\"repeat inputs, condition vector is numpy array\"\"\"\n",
        "  tmp = torch.from_numpy(input_cond_np).unsqueeze(0)\n",
        "  new_cond = [tmp.repeat(nrepeats,1)]\n",
        "  new_graph = [c.repeat(nrepeats,1,1)  if (c.ndim == 3) else c.repeat(nrepeats,1) for c in input_graph]\n",
        "  return new_graph, new_cond\n",
        "\n",
        "@torch.no_grad()\n",
        "def ensemble_log_prob(input_cond_np, input_graph, flow, prior, nsamples= 30, device='cpu',rtol=1e-4, trace_method='exact',):\n",
        "  # we assume the graph is properly transformed already!\n",
        "  flow.training = False\n",
        "  flow.transformations[1]._rtol = rtol\n",
        "  flow.transformations[1]._atol = rtol\n",
        "  flow.transformations[1].odefunc.method = trace_method\n",
        "  flow.transformations[1].odefunc.ode_regularization = 0.0\n",
        "\n",
        "  new_graph, new_cond = repeat_batch(input_cond_np, input_graph, nrepeats=nsamples)\n",
        "  logpx = flow_logpx(\n",
        "    flow, \n",
        "    prior, \n",
        "    new_graph, \n",
        "    new_cond, \n",
        "    device=device, \n",
        "    ode_regularization=0.01\n",
        "  )\n",
        "  return logpx.cpu().numpy()\n",
        "\n",
        "@torch.no_grad()\n",
        "def condition_log_prob(input_cond_np, input_graph, flow, prior, rtol=1e-4, trace_method='exact',device='cpu'):\n",
        "  # we assume the graph is properly transformed already!\n",
        "  flow.training = False\n",
        "  flow.transformations[1]._rtol = rtol\n",
        "  flow.transformations[1]._atol = rtol\n",
        "  flow.transformations[1].odefunc.method = trace_method\n",
        "  flow.transformations[1].odefunc.ode_regularization = 0.0\n",
        "\n",
        "  input_cond = [ torch.from_numpy(input_cond_np).unsqueeze(0) ]\n",
        "  logpx = flow_logpx(\n",
        "    flow, \n",
        "    prior, \n",
        "    input_graph, \n",
        "    input_cond, \n",
        "    device=device, \n",
        "    ode_regularization=0.01\n",
        "  )\n",
        "  return logpx.cpu().numpy()"
      ],
      "metadata": {
        "id": "VwuG9bsiP9v0"
      },
      "execution_count": 11,
      "outputs": []
    },
    {
      "cell_type": "code",
      "source": [
        "def prepare_ckpt_model(\n",
        "    ckpt_path=\"egnn_7_val=43.972.pt\", \n",
        "    device='cpu', \n",
        "    bsz=1,\n",
        "    rtol=1e-4,\n",
        "    trace_method='exact'\n",
        "    ):\n",
        "\n",
        "  prior, flow = get_model(\n",
        "      in_node_nf=in_node_nf, \n",
        "      dynamics_in_node_nf=1, \n",
        "      context_node_nf=context_node_nf, \n",
        "      n_dims=3, \n",
        "      device=device)\n",
        "\n",
        "  ckpt = torch.load(ckpt_path, map_location=torch.device(device))\n",
        "\n",
        "  state_dict = ckpt['model_state_dict']\n",
        "\n",
        "  model_dict = OrderedDict()\n",
        "  pattern = re.compile('module.')\n",
        "  for k,v in state_dict.items():\n",
        "      if re.search(\"module\", k):\n",
        "          model_dict[re.sub(pattern, '', k)] = v\n",
        "      else:\n",
        "          model_dict[k] = v\n",
        "  flow.load_state_dict(model_dict)\n",
        "\n",
        "  flow.training = False\n",
        "  flow.transformations[1]._rtol = rtol\n",
        "  flow.transformations[1]._atol = rtol\n",
        "  flow.transformations[1].odefunc.method = trace_method\n",
        "  flow.transformations[1].odefunc.ode_regularization = 0.0\n",
        "\n",
        "  return prior, flow"
      ],
      "metadata": {
        "id": "QldEK_8qaYnW"
      },
      "execution_count": 13,
      "outputs": []
    },
    {
      "cell_type": "code",
      "source": [
        "prior_cuda, flow_cuda = prepare_ckpt_model(\n",
        "    ckpt_path=\"egnn_12_val=75.961.pt\", \n",
        "    device='cuda', \n",
        "    rtol=1e-4,\n",
        "    trace_method='hutch'\n",
        "    )\n",
        "\n",
        "prior_cpu, flow_cpu = prepare_ckpt_model(\n",
        "    ckpt_path=\"egnn_12_val=75.961.pt\", \n",
        "    device='cpu', \n",
        "    rtol=1e-4,\n",
        "    trace_method='hutch'\n",
        "    )\n"
      ],
      "metadata": {
        "id": "f_De1WSdci6g"
      },
      "execution_count": 14,
      "outputs": []
    },
    {
      "cell_type": "code",
      "source": [
        "input_graph, input_cond = preprocess_inputs(dataset,31)\n",
        "npcond = input_cond[0][0].numpy()"
      ],
      "metadata": {
        "id": "v5qUn2ERglRX"
      },
      "execution_count": 29,
      "outputs": []
    },
    {
      "cell_type": "code",
      "source": [
        "%%time\n",
        "nll_samples_cuda = ensemble_log_prob(npcond, input_graph, flow_cuda, prior_cuda, nsamples=200, device='cuda', rtol=1e-4, trace_method='hutch',)"
      ],
      "metadata": {
        "colab": {
          "base_uri": "https://localhost:8080/"
        },
        "id": "2jPxpIJodXci",
        "outputId": "f4d808da-62a9-41a9-8c2c-905f68b644ce"
      },
      "execution_count": 30,
      "outputs": [
        {
          "output_type": "stream",
          "name": "stdout",
          "text": [
            "CPU times: user 1.78 s, sys: 50.1 ms, total: 1.83 s\n",
            "Wall time: 1.84 s\n"
          ]
        }
      ]
    },
    {
      "cell_type": "code",
      "source": [
        "%%time\n",
        "nll_samples_cpu = ensemble_log_prob(npcond, input_graph, flow_cpu, prior_cpu, nsamples=200, device='cpu', rtol=1e-4, trace_method='hutch',)"
      ],
      "metadata": {
        "colab": {
          "base_uri": "https://localhost:8080/"
        },
        "id": "rqpHXaSjgbho",
        "outputId": "5849f4cc-d846-4899-d5b0-2aab516b1455"
      },
      "execution_count": 31,
      "outputs": [
        {
          "output_type": "stream",
          "name": "stdout",
          "text": [
            "CPU times: user 25 s, sys: 2.75 s, total: 27.8 s\n",
            "Wall time: 27.7 s\n"
          ]
        }
      ]
    },
    {
      "cell_type": "code",
      "source": [
        "%%time\n",
        "nll_exact = condition_log_prob(npcond, input_graph, flow_cpu, prior_cpu, device='cpu', rtol=1e-4, trace_method='exact',)"
      ],
      "metadata": {
        "colab": {
          "base_uri": "https://localhost:8080/"
        },
        "id": "yc-3VFNjizFE",
        "outputId": "58a7461d-7b3b-4ac9-c115-cae755e3717d"
      },
      "execution_count": 32,
      "outputs": [
        {
          "output_type": "stream",
          "name": "stdout",
          "text": [
            "CPU times: user 16.3 s, sys: 857 ms, total: 17.2 s\n",
            "Wall time: 17.1 s\n"
          ]
        }
      ]
    },
    {
      "cell_type": "code",
      "source": [
        "%%time\n",
        "nll_exact_cuda = condition_log_prob(npcond, input_graph, flow_cuda, prior_cuda, device='cuda', rtol=1e-4, trace_method='exact',)"
      ],
      "metadata": {
        "colab": {
          "base_uri": "https://localhost:8080/"
        },
        "id": "MuyZ-nlHkmpV",
        "outputId": "152f3fed-b7ec-4df7-8e08-72b2c912510b"
      },
      "execution_count": 33,
      "outputs": [
        {
          "output_type": "stream",
          "name": "stdout",
          "text": [
            "CPU times: user 23.3 s, sys: 191 ms, total: 23.5 s\n",
            "Wall time: 23.3 s\n"
          ]
        }
      ]
    },
    {
      "cell_type": "markdown",
      "source": [
        "# Summary of the Actual Inference\n",
        "$\\frac{\\mathrm{d} z (t)}{\\mathrm{d} t} = f (z (t), t, \\theta)$\n",
        "\n",
        "$p(z,t)$ is the probability equation defined by the Liouville equation:  \n",
        "$\\frac{\\partial p (z, t)}{\\partial t} = -\\text{tr} \\left( \\frac{\\partial}{\\partial z} [f (z, t, \\theta) p (z, t)] \\right)$\n",
        "\n",
        "\n",
        "\n",
        "\\begin{align}\n",
        "& q (t) = p (z (t), t)\\\\\\\\\n",
        "& \\frac{\\mathrm{d} q (t)}{\\mathrm{d} t}\\\\ = & \\left[ \\frac{\\partial p (z (t), t)}{\\partial z (t)} \\right]^T \\frac{\\partial z (t)}{\\partial t} + \\frac{\\partial p (z (t), t)}{\\partial t}\\\\ = & \\left[ \\frac{\\partial p (z (t), t)}{\\partial z (t)} \\right]^T \\frac{\\partial z (t)}{\\partial t} -\\text{tr} \\left( \\frac{\\partial}{\\partial z (t)} [f (z (t), t, \\theta) p (z (t), t)] \\right) (\\text{Liouville})\\\\ = & \\left[ \\frac{\\partial p (z (t), t)}{\\partial z (t)} \\right]^T \\frac{\\partial z (t)}{\\partial t} -\\text{tr} \\left( \\frac{\\partial f (z (t), t, \\theta)}{\\partial z (t)} \\right) p (z (t), t) - \\left[ \\frac{\\partial p (z (t), t)}{\\partial z (t)} \\right]^T f (z (t), t, \\theta)\\\\ = & -\\text{tr} \\left( \\frac{\\partial f (z (t), t, \\theta)}{\\partial z (t)} \\right) q (t)\n",
        "\\end{align}\n",
        "\n",
        "$\\frac{\\mathrm{d} \\log q (t)}{\\mathrm{d} t} = -\\text{tr} \\left( \\frac{\\partial f (z (t), t, \\theta)}{\\partial z (t)} \\right)$\n",
        "\n",
        "\n",
        "$\\frac{\\mathrm{d}}{\\mathrm{d} t} \\left[\\begin{array}{c}\n",
        "     z (t)\\\\ \\log q (t) \\end{array}\\right] = \\frac{\\mathrm{d}}{\\mathrm{d} t} \\left[\\begin{array}{c} z (t)\\\\ \\log p (z (t), t)\n",
        "   \\end{array}\\right] = \\left[\\begin{array}{c}\n",
        "     f (z (t), t, \\theta)\\\\ -\\text{tr} \\left( \\frac{\\partial f (z (t), t, \\theta)}{\\partial z (t)} \\right)\n",
        "     \\end{array}\\right]$"
      ],
      "metadata": {
        "id": "km-4fmnTu_Ek"
      }
    },
    {
      "cell_type": "code",
      "source": [
        "import matplotlib.pyplot as plt\n",
        "plt.hist(nll_samples_cpu, histtype='step', color='C0', density=True)\n",
        "plt.hist(nll_samples_cuda, histtype='step', color='C1', density=True)\n",
        "\n",
        "\n",
        "plt.axvline(nll_exact,color='k', label=f'{\"exact\":<15} {nll_exact.item():.2f}')\n",
        "plt.axvline(nll_exact_cuda,color='k', ls = '--', label=f'{\"exactcuda\":<10} {nll_exact_cuda.item():.2f}')\n",
        "\n",
        "plt.axvline(nll_samples_cpu.mean(),color='C0', label=f'{\"cpu\":<15} {nll_samples_cpu.mean().item():.2f}')\n",
        "plt.axvline(nll_samples_cuda.mean(),color='C1', label=f'{\"cuda\":<15} {nll_samples_cuda.mean().item():.2f}')\n",
        "plt.xlabel('Log-likelihood')\n",
        "plt.ylabel('counts')\n",
        "plt.legend()"
      ],
      "metadata": {
        "colab": {
          "base_uri": "https://localhost:8080/",
          "height": 296
        },
        "id": "9CY2u8QBhDmP",
        "outputId": "2d4fbd30-0319-4a52-a645-0d0666de239b"
      },
      "execution_count": 34,
      "outputs": [
        {
          "output_type": "execute_result",
          "data": {
            "text/plain": [
              "<matplotlib.legend.Legend at 0x7f1c30191b10>"
            ]
          },
          "metadata": {},
          "execution_count": 34
        },
        {
          "output_type": "display_data",
          "data": {
            "text/plain": [
              "<Figure size 432x288 with 1 Axes>"
            ],
            "image/png": "[encoded data removed]"
          },
          "metadata": {
            "needs_background": "light"
          }
        }
      ]
    },
    {
      "cell_type": "markdown",
      "source": [
        "# Ensemble Hutch Trace Estimate as a surrogate for the Exact Trace Estimate"
      ],
      "metadata": {
        "id": "uWl_8YNInylh"
      }
    },
    {
      "cell_type": "code",
      "source": [
        "!pip install -U emcee"
      ],
      "metadata": {
        "colab": {
          "base_uri": "https://localhost:8080/"
        },
        "id": "Iebk5Rdtdvmx",
        "outputId": "21bf1059-3179-4f3e-b66c-82dca8114b58"
      },
      "execution_count": 35,
      "outputs": [
        {
          "output_type": "stream",
          "name": "stdout",
          "text": [
            "Collecting emcee\n",
            "  Downloading emcee-3.1.1-py2.py3-none-any.whl (45 kB)\n",
            "\u001b[?25l\r\u001b[K     |███████▏                        | 10 kB 36.2 MB/s eta 0:00:01\r\u001b[K     |██████████████▎                 | 20 kB 30.1 MB/s eta 0:00:01\r\u001b[K     |█████████████████████▍          | 30 kB 19.0 MB/s eta 0:00:01\r\u001b[K     |████████████████████████████▌   | 40 kB 16.7 MB/s eta 0:00:01\r\u001b[K     |████████████████████████████████| 45 kB 3.7 MB/s \n",
            "\u001b[?25hRequirement already satisfied: numpy in /usr/local/lib/python3.7/dist-packages (from emcee) (1.21.5)\n",
            "Installing collected packages: emcee\n",
            "Successfully installed emcee-3.1.1\n"
          ]
        }
      ]
    },
    {
      "cell_type": "markdown",
      "source": [
        "## Sample One `idx = 31` graph, and condition\n",
        "- ground truth:   \n",
        "`([ 2.14894159, -0.79287613, -1.762911  ,  0.48976653, -0.14799766, -1.14266813,  1.8743024 ,  1.52000856])`\n",
        "- could we **given a graph find the optimal condition**\n",
        "- given a snapshot in say $z=2$, infer its $z=0$ properties?\n",
        "- with `MCMC`"
      ],
      "metadata": {
        "id": "k5PqPV2TpNlM"
      }
    },
    {
      "cell_type": "code",
      "source": [
        "idx = 31\n",
        "input_graph, input_cond = preprocess_inputs(dataset,31)\n",
        "npcond = input_cond[0][0].numpy()"
      ],
      "metadata": {
        "id": "gpp8uJ5jpJVY"
      },
      "execution_count": 36,
      "outputs": []
    },
    {
      "cell_type": "code",
      "source": [
        "npcond.shape[0]"
      ],
      "metadata": {
        "colab": {
          "base_uri": "https://localhost:8080/"
        },
        "id": "Bl7NYkNJpCu5",
        "outputId": "c5388624-0b50-4f26-e192-e981e1286238"
      },
      "execution_count": 40,
      "outputs": [
        {
          "output_type": "execute_result",
          "data": {
            "text/plain": [
              "(12,)"
            ]
          },
          "metadata": {},
          "execution_count": 40
        }
      ]
    },
    {
      "cell_type": "code",
      "source": [
        "import emcee\n",
        "ndim, nwalkers = npcond.shape[0], 32\n",
        "p0 = np.random.randn(nwalkers, ndim)\n",
        "\n",
        "nensemble_estimates = 200\n",
        "device = 'cuda'\n",
        "rtol = 1e-4\n",
        "trace_method = 'hutch'\n",
        "\n",
        "sampler = emcee.EnsembleSampler(\n",
        "    nwalkers, \n",
        "    ndim, \n",
        "    ensemble_log_prob, \n",
        "    args =[ \n",
        "           input_graph, \n",
        "           flow_cuda, \n",
        "           prior_cuda, \n",
        "           nensemble_estimates, \n",
        "           device, \n",
        "           rtol, \n",
        "           trace_method]\n",
        "           )\n",
        "sampler.run_mcmc(p0, 1000, progress=True)"
      ],
      "metadata": {
        "colab": {
          "base_uri": "https://localhost:8080/"
        },
        "id": "CFYMGe_knA7a",
        "outputId": "ed57f5a5-7f38-4109-edd4-f55d4f7a75a9"
      },
      "execution_count": null,
      "outputs": [
        {
          "output_type": "stream",
          "name": "stderr",
          "text": [
            " 11%|█▏        | 113/1000 [1:54:32<15:27:14, 62.72s/it]"
          ]
        }
      ]
    },
    {
      "cell_type": "code",
      "source": [
        "import matplotlib.pyplot as plt\n",
        "\n",
        "samples = sampler.get_chain(flat=True)\n",
        "\n",
        "f,ax = plt.subplots(2,4,constrained_layout=True)\n",
        "for i in range(8):\n",
        "  ax.flat[i].hist(samples[1000:, i], 10, color=\"k\", histtype=\"step\")\n",
        "  ax.flat[i].axvline(input_cond[0].numpy()[0,i])\n",
        "# plt.axvline(input_cond[0].numpy()[0,0])"
      ],
      "metadata": {
        "colab": {
          "base_uri": "https://localhost:8080/",
          "height": 313
        },
        "id": "KsvsOkCAq3Fb",
        "outputId": "c255bea7-cf08-4f67-b33c-c0c3963dd696"
      },
      "execution_count": 111,
      "outputs": [
        {
          "output_type": "display_data",
          "data": {
            "text/plain": [
              "<Figure size 432x288 with 8 Axes>"
            ],
            "image/png": "[encoded data removed]"
          },
          "metadata": {
            "needs_background": "light"
          }
        }
      ]
    },
    {
      "cell_type": "code",
      "source": [
        ""
      ],
      "metadata": {
        "id": "YY2VxGd-9iur"
      },
      "execution_count": null,
      "outputs": []
    }
  ]
}